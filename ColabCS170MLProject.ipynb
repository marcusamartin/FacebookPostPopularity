{
  "nbformat": 4,
  "nbformat_minor": 0,
  "metadata": {
    "colab": {
      "name": "ColabCS170MLProject.ipynb",
      "provenance": [],
      "collapsed_sections": [],
      "toc_visible": true,
      "include_colab_link": true
    },
    "kernelspec": {
      "name": "python3",
      "display_name": "Python 3"
    }
  },
  "cells": [
    {
      "cell_type": "markdown",
      "metadata": {
        "id": "view-in-github",
        "colab_type": "text"
      },
      "source": [
        "<a href=\"https://colab.research.google.com/github/marcusamartin/FacebookPostPopularity/blob/master/ColabCS170MLProject.ipynb\" target=\"_parent\"><img src=\"https://colab.research.google.com/assets/colab-badge.svg\" alt=\"Open In Colab\"/></a>"
      ]
    },
    {
      "cell_type": "markdown",
      "metadata": {
        "id": "Wv4zDAWNJU-F",
        "colab_type": "text"
      },
      "source": [
        "# Predicting the Popularity of a Facebook Post using Comments"
      ]
    },
    {
      "cell_type": "markdown",
      "metadata": {
        "id": "nlphDMxUCzOg",
        "colab_type": "text"
      },
      "source": [
        "Problem motivation:\n",
        "We want to predict whether or not a Facebook post will receive a minimum number of comments.\n",
        "Facebook is a social media platform where users can connect with others by posting  messages, photos, and videos. Other users can leave comments attached to these posts. If a user’s post is sponsored by a company, that company would want to have an idea of how many people will react.\n",
        "\n",
        "\n",
        "We are using a dataset of Facebook comments provided by UCI with over 40,000 entries and 54 features from 2016:\n",
        "http://archive.ics.uci.edu/ml/datasets/Facebook+Comment+Volume+Dataset?fbclid=IwAR0-0E-gKKpGAe0wRZ2AHboKgntIO3UrAVPaFOnkw6R6IAuAgHVgDzde1qo\n",
        "\n",
        "\n",
        "We chose to do binary classification with DecisionTree, Random Forest, and KNN. Our binary classification tells us whether or not the post has more than 50 comments."
      ]
    },
    {
      "cell_type": "markdown",
      "metadata": {
        "id": "-cZ5MPtOJfe5",
        "colab_type": "text"
      },
      "source": [
        "## Import Libraries"
      ]
    },
    {
      "cell_type": "markdown",
      "metadata": {
        "id": "jHawIP5vDkUg",
        "colab_type": "text"
      },
      "source": [
        "First we import the libraries needed for the project.\n",
        "\n",
        "\n",
        "*   matplotlib.plyplot: needed to plot the data\n",
        "*   seaborn: needed to generate the confusion matrix\n",
        "*   numpy: needed for performing operations on the data\n",
        "*   pandas: needed for data manipulation and analysis\n",
        "\n"
      ]
    },
    {
      "cell_type": "code",
      "metadata": {
        "id": "jnreblmlxeE1",
        "colab_type": "code",
        "colab": {}
      },
      "source": [
        "import matplotlib.pyplot as plt   # needed to plot data\n",
        "import seaborn as sns; sns.set()   # needed to generate confusion matrix\n",
        "import numpy as np   # needed for performing operations on data\n",
        "import pandas as pd   # needed for data manipulation and analysis"
      ],
      "execution_count": null,
      "outputs": []
    },
    {
      "cell_type": "markdown",
      "metadata": {
        "id": "rQphbFNRJJ2r",
        "colab_type": "text"
      },
      "source": [
        "## Helper Functions"
      ]
    },
    {
      "cell_type": "markdown",
      "metadata": {
        "id": "-zYUCw4pEMAj",
        "colab_type": "text"
      },
      "source": [
        "We also define some functions that will help us understand the performance of our model.\n",
        "\n",
        "\n",
        "*   plot_PR_curve: plots a precision-recall curve\n",
        "*   plot_RC_curve: plots an AUC-ROC curve\n",
        "*   print_metrics: prints precision, recall, F1, and AUC metrics\n",
        "\n"
      ]
    },
    {
      "cell_type": "code",
      "metadata": {
        "id": "OnlXBsz8Aafi",
        "colab_type": "code",
        "colab": {}
      },
      "source": [
        "# resource: https://github.com/rutujagurav/Binary-Classification-Predicting-a-pulsar-star/blob/master/PulsarStar_v1.ipynb\n",
        "\n",
        "from sklearn import metrics\n",
        "\n",
        "# plots PR curve\n",
        "def plot_PR_curve(y_test, y_pred):\n",
        "    y_score = y_pred\n",
        "    precision_curve, recall_curve, pr_thresholds = metrics.precision_recall_curve(y_test, y_pred)\n",
        "    precision_curve = precision_curve[:-1]\n",
        "    recall_curve = recall_curve[:-1]\n",
        "    pct_above_per_thresh = []\n",
        "    number_scored = len(y_pred)\n",
        "    for value in pr_thresholds:\n",
        "        num_above_thresh = len(y_score[y_pred >= value])\n",
        "        pct_above_thresh = num_above_thresh / float(number_scored)\n",
        "        pct_above_per_thresh.append(pct_above_thresh)\n",
        "    pct_above_per_thresh = np.array(pct_above_per_thresh)\n",
        "    plt.clf()\n",
        "    fig, ax1 = plt.subplots()\n",
        "    ax1.plot(pct_above_per_thresh, precision_curve, 'b')\n",
        "    ax1.set_xlabel('percent of population')\n",
        "    ax1.set(ylim=(0, 1))\n",
        "\n",
        "    ax1.set_ylabel('precision', color='b')\n",
        "    ax2 = ax1.twinx()\n",
        "    ax1.plot(pct_above_per_thresh, recall_curve, 'r')\n",
        "    ax2.set_ylabel('recall', color='r')\n",
        "    \n",
        "    #filename = \"Pipelevel_Predictions_RF\\\\\"\n",
        "    #plt.savefig(filename + str(year)+'_precision_recall.png', bbox_inches='tight')\n",
        "    #plt.close()\n",
        "    plt.tight_layout()\n",
        "    plt.show()\n",
        "\n",
        "# plots ROC curve\n",
        "def plot_ROC_curve(y_test, y_pred):\n",
        "    fpr,tpr,thresholds = metrics.roc_curve(y_test,y_pred)\n",
        "    roc_auc = metrics.auc(fpr,tpr)\n",
        "    plt.clf()\n",
        "    plt.title(\"ROC\")\n",
        "    plt.plot(fpr,tpr,'b',label='AUC = %0.2f' %roc_auc)\n",
        "    plt.legend(loc='lower right')\n",
        "    plt.plot([0,1],[0,1],'r--')\n",
        "    plt.xlim([0,1])\n",
        "    plt.ylim([0,1])\n",
        "    plt.ylabel('True Positive Rate')\n",
        "    plt.xlabel('False Positive Rate')\n",
        "    plt.tight_layout()\n",
        "    plt.show()\n",
        "    \n",
        "# prints Precision, Recall, F1, and AUC metrics\n",
        "def print_metrics(y_test, y_pred, k, threshold = 0.5):\n",
        "    print(\"Precision\", metrics.precision_score(y_test, y_pred > threshold))\n",
        "    print(\"Recall\",metrics.recall_score(y_test, y_pred > threshold))\n",
        "    print(\"F1\",metrics.f1_score(y_test, y_pred > threshold))\n",
        "    print(\"AUC\",metrics.roc_auc_score(y_test, y_pred))"
      ],
      "execution_count": null,
      "outputs": []
    },
    {
      "cell_type": "markdown",
      "metadata": {
        "id": "6UDCIpDzKAdf",
        "colab_type": "text"
      },
      "source": [
        "## Import .CSV Files"
      ]
    },
    {
      "cell_type": "markdown",
      "metadata": {
        "id": "NR2qaD0UF3AQ",
        "colab_type": "text"
      },
      "source": [
        "We start by reading the .csv file that contains the dataset into a Pandas DataFrame. In our case, we have five .csv files. Since we want as much data as possible to train our model, we read all the .csv files into their own DataFrame. This is done by accessing the Google Drive that contains the files and then getting the path to each of the files.\n",
        "\n",
        "In your Google Drive, create a folder named \"CS170MLProject\" and put the unzipped Dataset folder obtained from the UCI website (http://archive.ics.uci.edu/ml/datasets/Facebook+Comment+Volume+Dataset) into the folder. You will need to allow Google Colab access to your Google Drive."
      ]
    },
    {
      "cell_type": "code",
      "metadata": {
        "id": "-MRJHD0hzzUu",
        "colab_type": "code",
        "colab": {
          "base_uri": "https://localhost:8080/",
          "height": 35
        },
        "outputId": "c3d5f5ca-4c81-4888-d46f-397ba7b4f6a0"
      },
      "source": [
        "# resource: https://medium.com/@simonprdhm/2-ways-to-upload-csv-files-to-google-colab-4d29ffa9db85\n",
        "\n",
        "# import the google drive where the csv files are located\n",
        "from google.colab import drive\n",
        "drive.mount('/content/gdrive', force_remount=True)\n",
        "\n",
        "# get the path to the csv files\n",
        "path = \"/content/gdrive/My Drive/CS170 Project 2 Machine Learning/Dataset/Dataset/Training/Features_Variant_1.csv\"\n",
        "path2 = \"/content/gdrive/My Drive/CS170 Project 2 Machine Learning/Dataset/Dataset/Training/Features_Variant_2.csv\"\n",
        "path3 = \"/content/gdrive/My Drive/CS170 Project 2 Machine Learning/Dataset/Dataset/Training/Features_Variant_3.csv\"\n",
        "path4 = \"/content/gdrive/My Drive/CS170 Project 2 Machine Learning/Dataset/Dataset/Training/Features_Variant_4.csv\"\n",
        "path5 = \"/content/gdrive/My Drive/CS170 Project 2 Machine Learning/Dataset/Dataset/Training/Features_Variant_5.csv\"\n",
        "\n",
        "# store the csv's\n",
        "dataset = pd.read_csv(path, engine='python')\n",
        "dataset2 = pd.read_csv(path2, engine='python')\n",
        "dataset3 = pd.read_csv(path3, engine='python')\n",
        "dataset4 = pd.read_csv(path4, engine='python')\n",
        "dataset5 = pd.read_csv(path5, engine='python')"
      ],
      "execution_count": null,
      "outputs": [
        {
          "output_type": "stream",
          "text": [
            "Mounted at /content/gdrive\n"
          ],
          "name": "stdout"
        }
      ]
    },
    {
      "cell_type": "markdown",
      "metadata": {
        "id": "QL_H2ObvKK5i",
        "colab_type": "text"
      },
      "source": [
        "## Add Header to CSV Columns"
      ]
    },
    {
      "cell_type": "markdown",
      "metadata": {
        "id": "F-AzBtQ5GzzG",
        "colab_type": "text"
      },
      "source": [
        "Since there are no descriptions for any of the columns, we want to add headers to each column that describe the contents of the column. This is done by adding the same column headers to each DataFrame."
      ]
    },
    {
      "cell_type": "code",
      "metadata": {
        "id": "g1PzjL8JxwT4",
        "colab_type": "code",
        "colab": {}
      },
      "source": [
        "# resource: https://kite.com/python/answers/how-to-add-a-header-to-a-csv-file-in-python#:~:text=Use%20pandas.,header%20to%20a%20CSV%20file&text=read_csv(file%2C%20header%3DNone,header%20to%20the%20CSV%20file.\n",
        "\n",
        "# define header for each column in dataset\n",
        "addHeader = [\"Page Popularity/likes\", \"Page Check-ins\", \"Page Talking About\", \"Page Category\", \"5\", \"6\", \"7\", \"8\", \"9\", \"10\", \"11\", \"12\", \"13\", \"14\", \"15\", \"16\", \"17\", \"18\", \"19\", \"20\", \"21\", \"22\", \"23\", \"24\", \"25\", \"26\", \"27\", \"28\", \"29\", \"Comments Before Selected Date/Time\", \"Comments in Last 24 Hours Relative to Base Date/Time\", \"Comments in Last 48-24 Hours Relative to Base Date/Time\", \"Comments in First 24 Hours Before Base Date/Time\", \"Difference between Comments in Last 24 and 48-24 Hours\", \"Selected Time\", \"Post Length\", \"Post Share Count\", \"Post Promotion Status\", \"H Hrs Local\", \"40\", \"41\", \"42\", \"43\", \"44\", \"45\", \"46\", \"47\", \"48\", \"49\", \"50\", \"51\", \"52\", \"53\", \"Number Of Predicted Comments\"]\n",
        "\n",
        "# add column headers to datasets\n",
        "dataset.to_csv(path, header=addHeader, index=False)\n",
        "dataset2.to_csv(path2, header=addHeader, index=False)\n",
        "dataset3.to_csv(path3, header=addHeader, index=False)\n",
        "dataset4.to_csv(path4, header=addHeader, index=False)\n",
        "dataset5.to_csv(path5, header=addHeader, index=False)"
      ],
      "execution_count": null,
      "outputs": []
    },
    {
      "cell_type": "markdown",
      "metadata": {
        "id": "4OIm7i3QKWCn",
        "colab_type": "text"
      },
      "source": [
        "## Combine CSV's into a Single Dataset"
      ]
    },
    {
      "cell_type": "markdown",
      "metadata": {
        "id": "LDcYYGRDHLBw",
        "colab_type": "text"
      },
      "source": [
        "To make the data easier to manipulate and analyze, we combine the five DataFrames into a single DataFrame."
      ]
    },
    {
      "cell_type": "code",
      "metadata": {
        "id": "bd8eK5_x58cq",
        "colab_type": "code",
        "colab": {
          "base_uri": "https://localhost:8080/",
          "height": 1000
        },
        "outputId": "aa5d7916-73f6-409b-dd30-3834b8cd6fe0"
      },
      "source": [
        "# resource: https://stackoverflow.com/questions/48051100/python-pandas-merge-multiple-csv-files\n",
        "\n",
        "dataset = pd.concat([dataset, dataset2, dataset3, dataset4, dataset5])\n",
        "dataset.info()"
      ],
      "execution_count": null,
      "outputs": [
        {
          "output_type": "stream",
          "text": [
            "<class 'pandas.core.frame.DataFrame'>\n",
            "Int64Index: 444727 entries, 0 to 40947\n",
            "Data columns (total 54 columns):\n",
            " #   Column                                                   Non-Null Count   Dtype  \n",
            "---  ------                                                   --------------   -----  \n",
            " 0   Page Popularity/likes                                    444727 non-null  int64  \n",
            " 1   Page Check-ins                                           444727 non-null  int64  \n",
            " 2   Page Talking About                                       444727 non-null  int64  \n",
            " 3   Page Category                                            444727 non-null  int64  \n",
            " 4   5                                                        444727 non-null  float64\n",
            " 5   6                                                        444727 non-null  float64\n",
            " 6   7                                                        444727 non-null  float64\n",
            " 7   8                                                        444727 non-null  float64\n",
            " 8   9                                                        444727 non-null  float64\n",
            " 9   10                                                       444727 non-null  float64\n",
            " 10  11                                                       444727 non-null  float64\n",
            " 11  12                                                       444727 non-null  float64\n",
            " 12  13                                                       444727 non-null  float64\n",
            " 13  14                                                       444727 non-null  float64\n",
            " 14  15                                                       444727 non-null  float64\n",
            " 15  16                                                       444727 non-null  float64\n",
            " 16  17                                                       444727 non-null  float64\n",
            " 17  18                                                       444727 non-null  float64\n",
            " 18  19                                                       444727 non-null  float64\n",
            " 19  20                                                       444727 non-null  float64\n",
            " 20  21                                                       444727 non-null  float64\n",
            " 21  22                                                       444727 non-null  float64\n",
            " 22  23                                                       444727 non-null  float64\n",
            " 23  24                                                       444727 non-null  float64\n",
            " 24  25                                                       444727 non-null  float64\n",
            " 25  26                                                       444727 non-null  float64\n",
            " 26  27                                                       444727 non-null  float64\n",
            " 27  28                                                       444727 non-null  float64\n",
            " 28  29                                                       444727 non-null  float64\n",
            " 29  Comments Before Selected Date/Time                       444727 non-null  int64  \n",
            " 30  Comments in Last 24 Hours Relative to Base Date/Time     444727 non-null  int64  \n",
            " 31  Comments in Last 48-24 Hours Relative to Base Date/Time  444727 non-null  int64  \n",
            " 32  Comments in First 24 Hours Before Base Date/Time         444727 non-null  int64  \n",
            " 33  Difference between Comments in Last 24 and 48-24 Hours   444727 non-null  int64  \n",
            " 34  Selected Time                                            444727 non-null  int64  \n",
            " 35  Post Length                                              444727 non-null  int64  \n",
            " 36  Post Share Count                                         444727 non-null  int64  \n",
            " 37  Post Promotion Status                                    444727 non-null  int64  \n",
            " 38  H Hrs Local                                              444727 non-null  int64  \n",
            " 39  40                                                       444727 non-null  int64  \n",
            " 40  41                                                       444727 non-null  int64  \n",
            " 41  42                                                       444727 non-null  int64  \n",
            " 42  43                                                       444727 non-null  int64  \n",
            " 43  44                                                       444727 non-null  int64  \n",
            " 44  45                                                       444727 non-null  int64  \n",
            " 45  46                                                       444727 non-null  int64  \n",
            " 46  47                                                       444727 non-null  int64  \n",
            " 47  48                                                       444727 non-null  int64  \n",
            " 48  49                                                       444727 non-null  int64  \n",
            " 49  50                                                       444727 non-null  int64  \n",
            " 50  51                                                       444727 non-null  int64  \n",
            " 51  52                                                       444727 non-null  int64  \n",
            " 52  53                                                       444727 non-null  int64  \n",
            " 53  Number Of Predicted Comments                             444727 non-null  int64  \n",
            "dtypes: float64(25), int64(29)\n",
            "memory usage: 186.6 MB\n"
          ],
          "name": "stdout"
        }
      ]
    },
    {
      "cell_type": "markdown",
      "metadata": {
        "id": "CxsLZCDIsRcj",
        "colab_type": "text"
      },
      "source": [
        "##Binary Classification\n",
        "The target values from our dataset range from being 0-2000, with the majority of target values being 0 (67%~) or under 5 (80%). We found out these percentages by running the describe() function with different percentile values. \n",
        "\n",
        "We decided to model our dataset in a binary fashion based on if a post has received more than 50 comments. Posts with 0-50 comments receive a target value of 0 and posts with more than 50 comments are given a target value of 1."
      ]
    },
    {
      "cell_type": "code",
      "metadata": {
        "id": "TRAnbmQQUjbv",
        "colab_type": "code",
        "colab": {
          "base_uri": "https://localhost:8080/",
          "height": 562
        },
        "outputId": "385dde53-b2ac-4781-dc5f-c25c9ba840da"
      },
      "source": [
        "dataset.describe(percentiles=[.60, .65, .70, .75, .80, .85, .90, .95])"
      ],
      "execution_count": null,
      "outputs": [
        {
          "output_type": "execute_result",
          "data": {
            "text/html": [
              "<div>\n",
              "<style scoped>\n",
              "    .dataframe tbody tr th:only-of-type {\n",
              "        vertical-align: middle;\n",
              "    }\n",
              "\n",
              "    .dataframe tbody tr th {\n",
              "        vertical-align: top;\n",
              "    }\n",
              "\n",
              "    .dataframe thead th {\n",
              "        text-align: right;\n",
              "    }\n",
              "</style>\n",
              "<table border=\"1\" class=\"dataframe\">\n",
              "  <thead>\n",
              "    <tr style=\"text-align: right;\">\n",
              "      <th></th>\n",
              "      <th>Page Popularity/likes</th>\n",
              "      <th>Page Check-ins</th>\n",
              "      <th>Page Talking About</th>\n",
              "      <th>Page Category</th>\n",
              "      <th>5</th>\n",
              "      <th>6</th>\n",
              "      <th>7</th>\n",
              "      <th>8</th>\n",
              "      <th>9</th>\n",
              "      <th>10</th>\n",
              "      <th>11</th>\n",
              "      <th>12</th>\n",
              "      <th>13</th>\n",
              "      <th>14</th>\n",
              "      <th>15</th>\n",
              "      <th>16</th>\n",
              "      <th>17</th>\n",
              "      <th>18</th>\n",
              "      <th>19</th>\n",
              "      <th>20</th>\n",
              "      <th>21</th>\n",
              "      <th>22</th>\n",
              "      <th>23</th>\n",
              "      <th>24</th>\n",
              "      <th>25</th>\n",
              "      <th>26</th>\n",
              "      <th>27</th>\n",
              "      <th>28</th>\n",
              "      <th>29</th>\n",
              "      <th>Comments Before Selected Date/Time</th>\n",
              "      <th>Comments in Last 24 Hours Relative to Base Date/Time</th>\n",
              "      <th>Comments in Last 48-24 Hours Relative to Base Date/Time</th>\n",
              "      <th>Comments in First 24 Hours Before Base Date/Time</th>\n",
              "      <th>Difference between Comments in Last 24 and 48-24 Hours</th>\n",
              "      <th>Selected Time</th>\n",
              "      <th>Post Length</th>\n",
              "      <th>Post Share Count</th>\n",
              "      <th>Post Promotion Status</th>\n",
              "      <th>H Hrs Local</th>\n",
              "      <th>40</th>\n",
              "      <th>41</th>\n",
              "      <th>42</th>\n",
              "      <th>43</th>\n",
              "      <th>44</th>\n",
              "      <th>45</th>\n",
              "      <th>46</th>\n",
              "      <th>47</th>\n",
              "      <th>48</th>\n",
              "      <th>49</th>\n",
              "      <th>50</th>\n",
              "      <th>51</th>\n",
              "      <th>52</th>\n",
              "      <th>53</th>\n",
              "      <th>Number Of Predicted Comments</th>\n",
              "    </tr>\n",
              "  </thead>\n",
              "  <tbody>\n",
              "    <tr>\n",
              "      <th>count</th>\n",
              "      <td>4.447270e+05</td>\n",
              "      <td>444727.000000</td>\n",
              "      <td>4.447270e+05</td>\n",
              "      <td>444727.000000</td>\n",
              "      <td>444727.000000</td>\n",
              "      <td>444727.000000</td>\n",
              "      <td>444727.000000</td>\n",
              "      <td>444727.000000</td>\n",
              "      <td>444727.000000</td>\n",
              "      <td>444727.000000</td>\n",
              "      <td>444727.000000</td>\n",
              "      <td>444727.000000</td>\n",
              "      <td>444727.000000</td>\n",
              "      <td>444727.000000</td>\n",
              "      <td>444727.000000</td>\n",
              "      <td>444727.000000</td>\n",
              "      <td>444727.000000</td>\n",
              "      <td>444727.000000</td>\n",
              "      <td>444727.000000</td>\n",
              "      <td>444727.000000</td>\n",
              "      <td>444727.000000</td>\n",
              "      <td>444727.000000</td>\n",
              "      <td>444727.000000</td>\n",
              "      <td>444727.000000</td>\n",
              "      <td>444727.000000</td>\n",
              "      <td>444727.000000</td>\n",
              "      <td>444727.000000</td>\n",
              "      <td>444727.000000</td>\n",
              "      <td>444727.000000</td>\n",
              "      <td>444727.000000</td>\n",
              "      <td>444727.000000</td>\n",
              "      <td>444727.000000</td>\n",
              "      <td>444727.000000</td>\n",
              "      <td>444727.000000</td>\n",
              "      <td>444727.000000</td>\n",
              "      <td>444727.000000</td>\n",
              "      <td>444727.000000</td>\n",
              "      <td>444727.0</td>\n",
              "      <td>444727.000000</td>\n",
              "      <td>444727.000000</td>\n",
              "      <td>444727.000000</td>\n",
              "      <td>444727.000000</td>\n",
              "      <td>444727.000000</td>\n",
              "      <td>444727.000000</td>\n",
              "      <td>444727.000000</td>\n",
              "      <td>444727.000000</td>\n",
              "      <td>444727.000000</td>\n",
              "      <td>444727.000000</td>\n",
              "      <td>444727.000000</td>\n",
              "      <td>444727.000000</td>\n",
              "      <td>444727.000000</td>\n",
              "      <td>444727.000000</td>\n",
              "      <td>444727.000000</td>\n",
              "      <td>444727.000000</td>\n",
              "    </tr>\n",
              "    <tr>\n",
              "      <th>mean</th>\n",
              "      <td>1.313598e+06</td>\n",
              "      <td>4672.938200</td>\n",
              "      <td>4.476669e+04</td>\n",
              "      <td>24.250441</td>\n",
              "      <td>0.813245</td>\n",
              "      <td>471.000277</td>\n",
              "      <td>55.832195</td>\n",
              "      <td>35.417272</td>\n",
              "      <td>67.869807</td>\n",
              "      <td>0.116728</td>\n",
              "      <td>344.361950</td>\n",
              "      <td>21.873075</td>\n",
              "      <td>7.229914</td>\n",
              "      <td>40.702483</td>\n",
              "      <td>0.006100</td>\n",
              "      <td>336.997228</td>\n",
              "      <td>19.937745</td>\n",
              "      <td>4.901717</td>\n",
              "      <td>40.081050</td>\n",
              "      <td>0.792743</td>\n",
              "      <td>429.322506</td>\n",
              "      <td>52.687524</td>\n",
              "      <td>33.791902</td>\n",
              "      <td>63.349827</td>\n",
              "      <td>-285.884673</td>\n",
              "      <td>337.775022</td>\n",
              "      <td>1.935330</td>\n",
              "      <td>-2.157497</td>\n",
              "      <td>56.524121</td>\n",
              "      <td>55.832340</td>\n",
              "      <td>21.873136</td>\n",
              "      <td>19.937789</td>\n",
              "      <td>52.687647</td>\n",
              "      <td>1.935347</td>\n",
              "      <td>35.445089</td>\n",
              "      <td>163.635835</td>\n",
              "      <td>117.270804</td>\n",
              "      <td>0.0</td>\n",
              "      <td>23.773160</td>\n",
              "      <td>0.122322</td>\n",
              "      <td>0.143223</td>\n",
              "      <td>0.149750</td>\n",
              "      <td>0.157303</td>\n",
              "      <td>0.144226</td>\n",
              "      <td>0.146243</td>\n",
              "      <td>0.136933</td>\n",
              "      <td>0.140500</td>\n",
              "      <td>0.133318</td>\n",
              "      <td>0.138150</td>\n",
              "      <td>0.146690</td>\n",
              "      <td>0.154160</td>\n",
              "      <td>0.144756</td>\n",
              "      <td>0.142427</td>\n",
              "      <td>7.175285</td>\n",
              "    </tr>\n",
              "    <tr>\n",
              "      <th>std</th>\n",
              "      <td>6.816461e+06</td>\n",
              "      <td>20578.599733</td>\n",
              "      <td>1.110092e+05</td>\n",
              "      <td>19.944907</td>\n",
              "      <td>13.961850</td>\n",
              "      <td>525.478066</td>\n",
              "      <td>86.528025</td>\n",
              "      <td>68.915809</td>\n",
              "      <td>82.560976</td>\n",
              "      <td>5.812971</td>\n",
              "      <td>416.755833</td>\n",
              "      <td>36.058074</td>\n",
              "      <td>19.929172</td>\n",
              "      <td>52.571634</td>\n",
              "      <td>0.904842</td>\n",
              "      <td>403.453228</td>\n",
              "      <td>31.154825</td>\n",
              "      <td>13.201298</td>\n",
              "      <td>52.004716</td>\n",
              "      <td>13.367045</td>\n",
              "      <td>486.050087</td>\n",
              "      <td>80.998014</td>\n",
              "      <td>65.196071</td>\n",
              "      <td>77.017957</td>\n",
              "      <td>356.472726</td>\n",
              "      <td>416.193642</td>\n",
              "      <td>13.457663</td>\n",
              "      <td>12.587571</td>\n",
              "      <td>74.280711</td>\n",
              "      <td>137.512966</td>\n",
              "      <td>75.635196</td>\n",
              "      <td>72.674729</td>\n",
              "      <td>128.474525</td>\n",
              "      <td>94.306651</td>\n",
              "      <td>20.954635</td>\n",
              "      <td>375.881766</td>\n",
              "      <td>949.360608</td>\n",
              "      <td>0.0</td>\n",
              "      <td>1.877816</td>\n",
              "      <td>0.327658</td>\n",
              "      <td>0.350300</td>\n",
              "      <td>0.356827</td>\n",
              "      <td>0.364087</td>\n",
              "      <td>0.351319</td>\n",
              "      <td>0.353350</td>\n",
              "      <td>0.343777</td>\n",
              "      <td>0.347505</td>\n",
              "      <td>0.339918</td>\n",
              "      <td>0.345058</td>\n",
              "      <td>0.353797</td>\n",
              "      <td>0.361102</td>\n",
              "      <td>0.351855</td>\n",
              "      <td>0.349488</td>\n",
              "      <td>34.631773</td>\n",
              "    </tr>\n",
              "    <tr>\n",
              "      <th>min</th>\n",
              "      <td>3.600000e+01</td>\n",
              "      <td>0.000000</td>\n",
              "      <td>0.000000e+00</td>\n",
              "      <td>1.000000</td>\n",
              "      <td>0.000000</td>\n",
              "      <td>0.000000</td>\n",
              "      <td>0.000000</td>\n",
              "      <td>0.000000</td>\n",
              "      <td>0.000000</td>\n",
              "      <td>0.000000</td>\n",
              "      <td>0.000000</td>\n",
              "      <td>0.000000</td>\n",
              "      <td>0.000000</td>\n",
              "      <td>0.000000</td>\n",
              "      <td>0.000000</td>\n",
              "      <td>0.000000</td>\n",
              "      <td>0.000000</td>\n",
              "      <td>0.000000</td>\n",
              "      <td>0.000000</td>\n",
              "      <td>0.000000</td>\n",
              "      <td>0.000000</td>\n",
              "      <td>0.000000</td>\n",
              "      <td>0.000000</td>\n",
              "      <td>0.000000</td>\n",
              "      <td>-2011.000000</td>\n",
              "      <td>-204.000000</td>\n",
              "      <td>-584.666667</td>\n",
              "      <td>-1411.000000</td>\n",
              "      <td>0.000000</td>\n",
              "      <td>0.000000</td>\n",
              "      <td>0.000000</td>\n",
              "      <td>0.000000</td>\n",
              "      <td>0.000000</td>\n",
              "      <td>-2011.000000</td>\n",
              "      <td>0.000000</td>\n",
              "      <td>0.000000</td>\n",
              "      <td>1.000000</td>\n",
              "      <td>0.0</td>\n",
              "      <td>1.000000</td>\n",
              "      <td>0.000000</td>\n",
              "      <td>0.000000</td>\n",
              "      <td>0.000000</td>\n",
              "      <td>0.000000</td>\n",
              "      <td>0.000000</td>\n",
              "      <td>0.000000</td>\n",
              "      <td>0.000000</td>\n",
              "      <td>0.000000</td>\n",
              "      <td>0.000000</td>\n",
              "      <td>0.000000</td>\n",
              "      <td>0.000000</td>\n",
              "      <td>0.000000</td>\n",
              "      <td>0.000000</td>\n",
              "      <td>0.000000</td>\n",
              "      <td>0.000000</td>\n",
              "    </tr>\n",
              "    <tr>\n",
              "      <th>50%</th>\n",
              "      <td>2.929110e+05</td>\n",
              "      <td>0.000000</td>\n",
              "      <td>7.045000e+03</td>\n",
              "      <td>18.000000</td>\n",
              "      <td>0.000000</td>\n",
              "      <td>246.000000</td>\n",
              "      <td>23.729765</td>\n",
              "      <td>12.000000</td>\n",
              "      <td>33.233348</td>\n",
              "      <td>0.000000</td>\n",
              "      <td>159.000000</td>\n",
              "      <td>8.759322</td>\n",
              "      <td>2.000000</td>\n",
              "      <td>18.670111</td>\n",
              "      <td>0.000000</td>\n",
              "      <td>152.000000</td>\n",
              "      <td>8.133663</td>\n",
              "      <td>1.000000</td>\n",
              "      <td>18.933186</td>\n",
              "      <td>0.000000</td>\n",
              "      <td>231.000000</td>\n",
              "      <td>21.680070</td>\n",
              "      <td>12.000000</td>\n",
              "      <td>31.079673</td>\n",
              "      <td>-128.000000</td>\n",
              "      <td>151.000000</td>\n",
              "      <td>0.219626</td>\n",
              "      <td>0.000000</td>\n",
              "      <td>25.481725</td>\n",
              "      <td>11.000000</td>\n",
              "      <td>2.000000</td>\n",
              "      <td>0.000000</td>\n",
              "      <td>10.000000</td>\n",
              "      <td>0.000000</td>\n",
              "      <td>35.000000</td>\n",
              "      <td>97.000000</td>\n",
              "      <td>13.000000</td>\n",
              "      <td>0.0</td>\n",
              "      <td>24.000000</td>\n",
              "      <td>0.000000</td>\n",
              "      <td>0.000000</td>\n",
              "      <td>0.000000</td>\n",
              "      <td>0.000000</td>\n",
              "      <td>0.000000</td>\n",
              "      <td>0.000000</td>\n",
              "      <td>0.000000</td>\n",
              "      <td>0.000000</td>\n",
              "      <td>0.000000</td>\n",
              "      <td>0.000000</td>\n",
              "      <td>0.000000</td>\n",
              "      <td>0.000000</td>\n",
              "      <td>0.000000</td>\n",
              "      <td>0.000000</td>\n",
              "      <td>0.000000</td>\n",
              "    </tr>\n",
              "    <tr>\n",
              "      <th>60%</th>\n",
              "      <td>4.564780e+05</td>\n",
              "      <td>0.000000</td>\n",
              "      <td>1.930100e+04</td>\n",
              "      <td>24.000000</td>\n",
              "      <td>0.000000</td>\n",
              "      <td>411.000000</td>\n",
              "      <td>34.434829</td>\n",
              "      <td>19.000000</td>\n",
              "      <td>52.131238</td>\n",
              "      <td>0.000000</td>\n",
              "      <td>278.000000</td>\n",
              "      <td>12.606061</td>\n",
              "      <td>3.500000</td>\n",
              "      <td>30.302196</td>\n",
              "      <td>0.000000</td>\n",
              "      <td>282.000000</td>\n",
              "      <td>12.248162</td>\n",
              "      <td>2.000000</td>\n",
              "      <td>30.515248</td>\n",
              "      <td>0.000000</td>\n",
              "      <td>363.000000</td>\n",
              "      <td>32.263889</td>\n",
              "      <td>19.000000</td>\n",
              "      <td>47.193977</td>\n",
              "      <td>-80.000000</td>\n",
              "      <td>262.000000</td>\n",
              "      <td>0.589655</td>\n",
              "      <td>0.000000</td>\n",
              "      <td>40.705810</td>\n",
              "      <td>19.000000</td>\n",
              "      <td>4.000000</td>\n",
              "      <td>2.000000</td>\n",
              "      <td>18.000000</td>\n",
              "      <td>0.000000</td>\n",
              "      <td>42.000000</td>\n",
              "      <td>122.000000</td>\n",
              "      <td>23.000000</td>\n",
              "      <td>0.0</td>\n",
              "      <td>24.000000</td>\n",
              "      <td>0.000000</td>\n",
              "      <td>0.000000</td>\n",
              "      <td>0.000000</td>\n",
              "      <td>0.000000</td>\n",
              "      <td>0.000000</td>\n",
              "      <td>0.000000</td>\n",
              "      <td>0.000000</td>\n",
              "      <td>0.000000</td>\n",
              "      <td>0.000000</td>\n",
              "      <td>0.000000</td>\n",
              "      <td>0.000000</td>\n",
              "      <td>0.000000</td>\n",
              "      <td>0.000000</td>\n",
              "      <td>0.000000</td>\n",
              "      <td>1.000000</td>\n",
              "    </tr>\n",
              "    <tr>\n",
              "      <th>65%</th>\n",
              "      <td>6.330160e+05</td>\n",
              "      <td>1.000000</td>\n",
              "      <td>2.798900e+04</td>\n",
              "      <td>24.000000</td>\n",
              "      <td>0.000000</td>\n",
              "      <td>503.000000</td>\n",
              "      <td>41.732558</td>\n",
              "      <td>24.000000</td>\n",
              "      <td>66.115628</td>\n",
              "      <td>0.000000</td>\n",
              "      <td>347.000000</td>\n",
              "      <td>16.734893</td>\n",
              "      <td>4.000000</td>\n",
              "      <td>36.692272</td>\n",
              "      <td>0.000000</td>\n",
              "      <td>345.000000</td>\n",
              "      <td>14.719697</td>\n",
              "      <td>3.000000</td>\n",
              "      <td>36.985559</td>\n",
              "      <td>0.000000</td>\n",
              "      <td>444.000000</td>\n",
              "      <td>39.302326</td>\n",
              "      <td>22.000000</td>\n",
              "      <td>58.807985</td>\n",
              "      <td>-58.000000</td>\n",
              "      <td>328.000000</td>\n",
              "      <td>0.826667</td>\n",
              "      <td>0.000000</td>\n",
              "      <td>50.289241</td>\n",
              "      <td>26.000000</td>\n",
              "      <td>5.000000</td>\n",
              "      <td>3.000000</td>\n",
              "      <td>24.000000</td>\n",
              "      <td>0.000000</td>\n",
              "      <td>46.000000</td>\n",
              "      <td>136.000000</td>\n",
              "      <td>31.000000</td>\n",
              "      <td>0.0</td>\n",
              "      <td>24.000000</td>\n",
              "      <td>0.000000</td>\n",
              "      <td>0.000000</td>\n",
              "      <td>0.000000</td>\n",
              "      <td>0.000000</td>\n",
              "      <td>0.000000</td>\n",
              "      <td>0.000000</td>\n",
              "      <td>0.000000</td>\n",
              "      <td>0.000000</td>\n",
              "      <td>0.000000</td>\n",
              "      <td>0.000000</td>\n",
              "      <td>0.000000</td>\n",
              "      <td>0.000000</td>\n",
              "      <td>0.000000</td>\n",
              "      <td>0.000000</td>\n",
              "      <td>1.000000</td>\n",
              "    </tr>\n",
              "    <tr>\n",
              "      <th>70%</th>\n",
              "      <td>8.654370e+05</td>\n",
              "      <td>15.000000</td>\n",
              "      <td>3.629200e+04</td>\n",
              "      <td>28.000000</td>\n",
              "      <td>0.000000</td>\n",
              "      <td>632.000000</td>\n",
              "      <td>58.654066</td>\n",
              "      <td>32.000000</td>\n",
              "      <td>82.057083</td>\n",
              "      <td>0.000000</td>\n",
              "      <td>403.000000</td>\n",
              "      <td>22.980392</td>\n",
              "      <td>6.000000</td>\n",
              "      <td>47.699370</td>\n",
              "      <td>0.000000</td>\n",
              "      <td>408.000000</td>\n",
              "      <td>20.708920</td>\n",
              "      <td>4.000000</td>\n",
              "      <td>46.140805</td>\n",
              "      <td>0.000000</td>\n",
              "      <td>550.000000</td>\n",
              "      <td>57.031390</td>\n",
              "      <td>30.000000</td>\n",
              "      <td>76.709578</td>\n",
              "      <td>-41.000000</td>\n",
              "      <td>401.000000</td>\n",
              "      <td>1.245614</td>\n",
              "      <td>0.000000</td>\n",
              "      <td>67.102521</td>\n",
              "      <td>34.000000</td>\n",
              "      <td>8.000000</td>\n",
              "      <td>6.000000</td>\n",
              "      <td>32.000000</td>\n",
              "      <td>1.000000</td>\n",
              "      <td>50.000000</td>\n",
              "      <td>152.000000</td>\n",
              "      <td>44.000000</td>\n",
              "      <td>0.0</td>\n",
              "      <td>24.000000</td>\n",
              "      <td>0.000000</td>\n",
              "      <td>0.000000</td>\n",
              "      <td>0.000000</td>\n",
              "      <td>0.000000</td>\n",
              "      <td>0.000000</td>\n",
              "      <td>0.000000</td>\n",
              "      <td>0.000000</td>\n",
              "      <td>0.000000</td>\n",
              "      <td>0.000000</td>\n",
              "      <td>0.000000</td>\n",
              "      <td>0.000000</td>\n",
              "      <td>0.000000</td>\n",
              "      <td>0.000000</td>\n",
              "      <td>0.000000</td>\n",
              "      <td>2.000000</td>\n",
              "    </tr>\n",
              "    <tr>\n",
              "      <th>75%</th>\n",
              "      <td>1.204214e+06</td>\n",
              "      <td>99.000000</td>\n",
              "      <td>5.026400e+04</td>\n",
              "      <td>32.000000</td>\n",
              "      <td>0.000000</td>\n",
              "      <td>753.000000</td>\n",
              "      <td>71.741379</td>\n",
              "      <td>41.000000</td>\n",
              "      <td>102.554954</td>\n",
              "      <td>0.000000</td>\n",
              "      <td>505.000000</td>\n",
              "      <td>27.655926</td>\n",
              "      <td>7.500000</td>\n",
              "      <td>59.479737</td>\n",
              "      <td>0.000000</td>\n",
              "      <td>502.000000</td>\n",
              "      <td>26.270270</td>\n",
              "      <td>5.000000</td>\n",
              "      <td>58.744958</td>\n",
              "      <td>0.000000</td>\n",
              "      <td>682.000000</td>\n",
              "      <td>68.485452</td>\n",
              "      <td>39.000000</td>\n",
              "      <td>95.493038</td>\n",
              "      <td>-29.000000</td>\n",
              "      <td>490.000000</td>\n",
              "      <td>1.886139</td>\n",
              "      <td>0.000000</td>\n",
              "      <td>81.559672</td>\n",
              "      <td>46.000000</td>\n",
              "      <td>11.000000</td>\n",
              "      <td>9.000000</td>\n",
              "      <td>44.000000</td>\n",
              "      <td>3.000000</td>\n",
              "      <td>53.000000</td>\n",
              "      <td>172.000000</td>\n",
              "      <td>61.000000</td>\n",
              "      <td>0.0</td>\n",
              "      <td>24.000000</td>\n",
              "      <td>0.000000</td>\n",
              "      <td>0.000000</td>\n",
              "      <td>0.000000</td>\n",
              "      <td>0.000000</td>\n",
              "      <td>0.000000</td>\n",
              "      <td>0.000000</td>\n",
              "      <td>0.000000</td>\n",
              "      <td>0.000000</td>\n",
              "      <td>0.000000</td>\n",
              "      <td>0.000000</td>\n",
              "      <td>0.000000</td>\n",
              "      <td>0.000000</td>\n",
              "      <td>0.000000</td>\n",
              "      <td>0.000000</td>\n",
              "      <td>3.000000</td>\n",
              "    </tr>\n",
              "    <tr>\n",
              "      <th>80%</th>\n",
              "      <td>1.552629e+06</td>\n",
              "      <td>214.000000</td>\n",
              "      <td>6.212200e+04</td>\n",
              "      <td>36.000000</td>\n",
              "      <td>0.000000</td>\n",
              "      <td>867.000000</td>\n",
              "      <td>96.963731</td>\n",
              "      <td>51.500000</td>\n",
              "      <td>124.440148</td>\n",
              "      <td>0.000000</td>\n",
              "      <td>638.000000</td>\n",
              "      <td>38.131313</td>\n",
              "      <td>9.000000</td>\n",
              "      <td>73.399607</td>\n",
              "      <td>0.000000</td>\n",
              "      <td>629.000000</td>\n",
              "      <td>34.835391</td>\n",
              "      <td>7.000000</td>\n",
              "      <td>73.894539</td>\n",
              "      <td>0.000000</td>\n",
              "      <td>793.000000</td>\n",
              "      <td>92.680769</td>\n",
              "      <td>49.000000</td>\n",
              "      <td>116.792542</td>\n",
              "      <td>-21.000000</td>\n",
              "      <td>626.000000</td>\n",
              "      <td>2.583969</td>\n",
              "      <td>0.000000</td>\n",
              "      <td>99.692870</td>\n",
              "      <td>64.000000</td>\n",
              "      <td>17.000000</td>\n",
              "      <td>14.000000</td>\n",
              "      <td>61.000000</td>\n",
              "      <td>7.000000</td>\n",
              "      <td>57.000000</td>\n",
              "      <td>199.000000</td>\n",
              "      <td>86.000000</td>\n",
              "      <td>0.0</td>\n",
              "      <td>24.000000</td>\n",
              "      <td>0.000000</td>\n",
              "      <td>0.000000</td>\n",
              "      <td>0.000000</td>\n",
              "      <td>0.000000</td>\n",
              "      <td>0.000000</td>\n",
              "      <td>0.000000</td>\n",
              "      <td>0.000000</td>\n",
              "      <td>0.000000</td>\n",
              "      <td>0.000000</td>\n",
              "      <td>0.000000</td>\n",
              "      <td>0.000000</td>\n",
              "      <td>0.000000</td>\n",
              "      <td>0.000000</td>\n",
              "      <td>0.000000</td>\n",
              "      <td>4.000000</td>\n",
              "    </tr>\n",
              "    <tr>\n",
              "      <th>85%</th>\n",
              "      <td>2.156275e+06</td>\n",
              "      <td>880.000000</td>\n",
              "      <td>8.675900e+04</td>\n",
              "      <td>39.000000</td>\n",
              "      <td>0.000000</td>\n",
              "      <td>1104.000000</td>\n",
              "      <td>127.000000</td>\n",
              "      <td>76.500000</td>\n",
              "      <td>157.616838</td>\n",
              "      <td>0.000000</td>\n",
              "      <td>769.000000</td>\n",
              "      <td>48.851541</td>\n",
              "      <td>13.500000</td>\n",
              "      <td>93.371623</td>\n",
              "      <td>0.000000</td>\n",
              "      <td>763.000000</td>\n",
              "      <td>45.041908</td>\n",
              "      <td>9.000000</td>\n",
              "      <td>89.726518</td>\n",
              "      <td>0.000000</td>\n",
              "      <td>1023.000000</td>\n",
              "      <td>119.230769</td>\n",
              "      <td>73.500000</td>\n",
              "      <td>148.831097</td>\n",
              "      <td>-13.000000</td>\n",
              "      <td>768.000000</td>\n",
              "      <td>4.148352</td>\n",
              "      <td>0.000000</td>\n",
              "      <td>130.711705</td>\n",
              "      <td>93.000000</td>\n",
              "      <td>28.000000</td>\n",
              "      <td>24.000000</td>\n",
              "      <td>89.000000</td>\n",
              "      <td>15.000000</td>\n",
              "      <td>61.000000</td>\n",
              "      <td>240.000000</td>\n",
              "      <td>129.000000</td>\n",
              "      <td>0.0</td>\n",
              "      <td>24.000000</td>\n",
              "      <td>0.000000</td>\n",
              "      <td>0.000000</td>\n",
              "      <td>0.000000</td>\n",
              "      <td>1.000000</td>\n",
              "      <td>0.000000</td>\n",
              "      <td>0.000000</td>\n",
              "      <td>0.000000</td>\n",
              "      <td>0.000000</td>\n",
              "      <td>0.000000</td>\n",
              "      <td>0.000000</td>\n",
              "      <td>0.000000</td>\n",
              "      <td>1.000000</td>\n",
              "      <td>0.000000</td>\n",
              "      <td>0.000000</td>\n",
              "      <td>7.000000</td>\n",
              "    </tr>\n",
              "    <tr>\n",
              "      <th>90%</th>\n",
              "      <td>3.337470e+06</td>\n",
              "      <td>2842.000000</td>\n",
              "      <td>1.203050e+05</td>\n",
              "      <td>46.000000</td>\n",
              "      <td>0.000000</td>\n",
              "      <td>1292.000000</td>\n",
              "      <td>148.475000</td>\n",
              "      <td>100.000000</td>\n",
              "      <td>192.179028</td>\n",
              "      <td>0.000000</td>\n",
              "      <td>993.000000</td>\n",
              "      <td>58.978689</td>\n",
              "      <td>18.500000</td>\n",
              "      <td>115.543047</td>\n",
              "      <td>0.000000</td>\n",
              "      <td>952.000000</td>\n",
              "      <td>53.951111</td>\n",
              "      <td>13.000000</td>\n",
              "      <td>111.245747</td>\n",
              "      <td>0.000000</td>\n",
              "      <td>1181.000000</td>\n",
              "      <td>140.462687</td>\n",
              "      <td>94.000000</td>\n",
              "      <td>180.902893</td>\n",
              "      <td>-8.000000</td>\n",
              "      <td>993.000000</td>\n",
              "      <td>7.220339</td>\n",
              "      <td>0.000000</td>\n",
              "      <td>160.002651</td>\n",
              "      <td>143.000000</td>\n",
              "      <td>49.000000</td>\n",
              "      <td>45.000000</td>\n",
              "      <td>136.000000</td>\n",
              "      <td>32.000000</td>\n",
              "      <td>65.000000</td>\n",
              "      <td>319.000000</td>\n",
              "      <td>217.000000</td>\n",
              "      <td>0.0</td>\n",
              "      <td>24.000000</td>\n",
              "      <td>1.000000</td>\n",
              "      <td>1.000000</td>\n",
              "      <td>1.000000</td>\n",
              "      <td>1.000000</td>\n",
              "      <td>1.000000</td>\n",
              "      <td>1.000000</td>\n",
              "      <td>1.000000</td>\n",
              "      <td>1.000000</td>\n",
              "      <td>1.000000</td>\n",
              "      <td>1.000000</td>\n",
              "      <td>1.000000</td>\n",
              "      <td>1.000000</td>\n",
              "      <td>1.000000</td>\n",
              "      <td>1.000000</td>\n",
              "      <td>12.000000</td>\n",
              "    </tr>\n",
              "    <tr>\n",
              "      <th>95%</th>\n",
              "      <td>5.365996e+06</td>\n",
              "      <td>27805.000000</td>\n",
              "      <td>1.942020e+05</td>\n",
              "      <td>68.000000</td>\n",
              "      <td>0.000000</td>\n",
              "      <td>1479.000000</td>\n",
              "      <td>196.810140</td>\n",
              "      <td>132.000000</td>\n",
              "      <td>229.418816</td>\n",
              "      <td>0.000000</td>\n",
              "      <td>1234.000000</td>\n",
              "      <td>77.146018</td>\n",
              "      <td>27.000000</td>\n",
              "      <td>140.630070</td>\n",
              "      <td>0.000000</td>\n",
              "      <td>1208.000000</td>\n",
              "      <td>71.466472</td>\n",
              "      <td>21.000000</td>\n",
              "      <td>136.823020</td>\n",
              "      <td>0.000000</td>\n",
              "      <td>1379.000000</td>\n",
              "      <td>191.391593</td>\n",
              "      <td>129.500000</td>\n",
              "      <td>211.647690</td>\n",
              "      <td>-4.000000</td>\n",
              "      <td>1234.000000</td>\n",
              "      <td>12.423469</td>\n",
              "      <td>0.000000</td>\n",
              "      <td>193.419520</td>\n",
              "      <td>259.000000</td>\n",
              "      <td>104.000000</td>\n",
              "      <td>99.000000</td>\n",
              "      <td>246.000000</td>\n",
              "      <td>84.000000</td>\n",
              "      <td>69.000000</td>\n",
              "      <td>507.000000</td>\n",
              "      <td>450.000000</td>\n",
              "      <td>0.0</td>\n",
              "      <td>24.000000</td>\n",
              "      <td>1.000000</td>\n",
              "      <td>1.000000</td>\n",
              "      <td>1.000000</td>\n",
              "      <td>1.000000</td>\n",
              "      <td>1.000000</td>\n",
              "      <td>1.000000</td>\n",
              "      <td>1.000000</td>\n",
              "      <td>1.000000</td>\n",
              "      <td>1.000000</td>\n",
              "      <td>1.000000</td>\n",
              "      <td>1.000000</td>\n",
              "      <td>1.000000</td>\n",
              "      <td>1.000000</td>\n",
              "      <td>1.000000</td>\n",
              "      <td>30.000000</td>\n",
              "    </tr>\n",
              "    <tr>\n",
              "      <th>max</th>\n",
              "      <td>4.869723e+08</td>\n",
              "      <td>186370.000000</td>\n",
              "      <td>6.089942e+06</td>\n",
              "      <td>106.000000</td>\n",
              "      <td>2341.000000</td>\n",
              "      <td>2495.000000</td>\n",
              "      <td>2341.000000</td>\n",
              "      <td>2347.000000</td>\n",
              "      <td>1023.765690</td>\n",
              "      <td>1923.000000</td>\n",
              "      <td>2131.000000</td>\n",
              "      <td>1923.000000</td>\n",
              "      <td>1923.000000</td>\n",
              "      <td>809.157702</td>\n",
              "      <td>324.000000</td>\n",
              "      <td>2162.000000</td>\n",
              "      <td>1267.333333</td>\n",
              "      <td>1879.000000</td>\n",
              "      <td>896.320007</td>\n",
              "      <td>1923.000000</td>\n",
              "      <td>2184.000000</td>\n",
              "      <td>1923.000000</td>\n",
              "      <td>2106.000000</td>\n",
              "      <td>900.068435</td>\n",
              "      <td>1923.000000</td>\n",
              "      <td>2131.000000</td>\n",
              "      <td>1923.000000</td>\n",
              "      <td>1923.000000</td>\n",
              "      <td>1240.113525</td>\n",
              "      <td>2495.000000</td>\n",
              "      <td>2131.000000</td>\n",
              "      <td>2162.000000</td>\n",
              "      <td>2184.000000</td>\n",
              "      <td>2131.000000</td>\n",
              "      <td>72.000000</td>\n",
              "      <td>21480.000000</td>\n",
              "      <td>144860.000000</td>\n",
              "      <td>0.0</td>\n",
              "      <td>24.000000</td>\n",
              "      <td>1.000000</td>\n",
              "      <td>1.000000</td>\n",
              "      <td>1.000000</td>\n",
              "      <td>1.000000</td>\n",
              "      <td>1.000000</td>\n",
              "      <td>1.000000</td>\n",
              "      <td>1.000000</td>\n",
              "      <td>1.000000</td>\n",
              "      <td>1.000000</td>\n",
              "      <td>1.000000</td>\n",
              "      <td>1.000000</td>\n",
              "      <td>1.000000</td>\n",
              "      <td>1.000000</td>\n",
              "      <td>1.000000</td>\n",
              "      <td>2106.000000</td>\n",
              "    </tr>\n",
              "  </tbody>\n",
              "</table>\n",
              "</div>"
            ],
            "text/plain": [
              "       Page Popularity/likes  ...  Number Of Predicted Comments\n",
              "count           4.447270e+05  ...                 444727.000000\n",
              "mean            1.313598e+06  ...                      7.175285\n",
              "std             6.816461e+06  ...                     34.631773\n",
              "min             3.600000e+01  ...                      0.000000\n",
              "50%             2.929110e+05  ...                      0.000000\n",
              "60%             4.564780e+05  ...                      1.000000\n",
              "65%             6.330160e+05  ...                      1.000000\n",
              "70%             8.654370e+05  ...                      2.000000\n",
              "75%             1.204214e+06  ...                      3.000000\n",
              "80%             1.552629e+06  ...                      4.000000\n",
              "85%             2.156275e+06  ...                      7.000000\n",
              "90%             3.337470e+06  ...                     12.000000\n",
              "95%             5.365996e+06  ...                     30.000000\n",
              "max             4.869723e+08  ...                   2106.000000\n",
              "\n",
              "[14 rows x 54 columns]"
            ]
          },
          "metadata": {
            "tags": []
          },
          "execution_count": 57
        }
      ]
    },
    {
      "cell_type": "markdown",
      "metadata": {
        "id": "cOKdv4O5UmVH",
        "colab_type": "text"
      },
      "source": [
        "From this we can see the mean value of comments from our 444727 training samples is 7.175. Standard deviation is 34.63\n",
        "67-68% with 0 predicted comment, 80 percentile is 4,  about 92-93% under 50.\n",
        "Due to the majority of values being zero, we want to also test a binary classification of whether the post receives a comment or not."
      ]
    },
    {
      "cell_type": "code",
      "metadata": {
        "id": "FdrbleHqSTh9",
        "colab_type": "code",
        "colab": {
          "base_uri": "https://localhost:8080/",
          "height": 445
        },
        "outputId": "5cfa14b4-7454-4b76-9473-31edc5ba8d3b"
      },
      "source": [
        "#resource: https://pandas.pydata.org/pandas-docs/stable/reference/api/pandas.DataFrame.loc.html\n",
        "   #example : df.loc[df['shield'] > 35] = 0   Set value for rows matching callable condition\n",
        "#resource: https://stackoverflow.com/questions/31511997/pandas-dataframe-replace-all-values-in-a-column-based-on-condition\n",
        "   #Added \"[... , 'Number Of Predicted Comments']\" to specify to only change the entry in that collumn\n",
        "\n",
        "biData = dataset.copy()\n",
        "\n",
        "biData.loc[biData[ 'Number Of Predicted Comments'] < 50, 'Number Of Predicted Comments'] = 0\n",
        "biData.loc[biData[ 'Number Of Predicted Comments'] >= 50, 'Number Of Predicted Comments'] = 1\n",
        "\n",
        "biData.describe(percentiles=[.20, .40, .60, .80])"
      ],
      "execution_count": null,
      "outputs": [
        {
          "output_type": "execute_result",
          "data": {
            "text/html": [
              "<div>\n",
              "<style scoped>\n",
              "    .dataframe tbody tr th:only-of-type {\n",
              "        vertical-align: middle;\n",
              "    }\n",
              "\n",
              "    .dataframe tbody tr th {\n",
              "        vertical-align: top;\n",
              "    }\n",
              "\n",
              "    .dataframe thead th {\n",
              "        text-align: right;\n",
              "    }\n",
              "</style>\n",
              "<table border=\"1\" class=\"dataframe\">\n",
              "  <thead>\n",
              "    <tr style=\"text-align: right;\">\n",
              "      <th></th>\n",
              "      <th>Page Popularity/likes</th>\n",
              "      <th>Page Check-ins</th>\n",
              "      <th>Page Talking About</th>\n",
              "      <th>Page Category</th>\n",
              "      <th>5</th>\n",
              "      <th>6</th>\n",
              "      <th>7</th>\n",
              "      <th>8</th>\n",
              "      <th>9</th>\n",
              "      <th>10</th>\n",
              "      <th>11</th>\n",
              "      <th>12</th>\n",
              "      <th>13</th>\n",
              "      <th>14</th>\n",
              "      <th>15</th>\n",
              "      <th>16</th>\n",
              "      <th>17</th>\n",
              "      <th>18</th>\n",
              "      <th>19</th>\n",
              "      <th>20</th>\n",
              "      <th>21</th>\n",
              "      <th>22</th>\n",
              "      <th>23</th>\n",
              "      <th>24</th>\n",
              "      <th>25</th>\n",
              "      <th>26</th>\n",
              "      <th>27</th>\n",
              "      <th>28</th>\n",
              "      <th>29</th>\n",
              "      <th>Comments Before Selected Date/Time</th>\n",
              "      <th>Comments in Last 24 Hours Relative to Base Date/Time</th>\n",
              "      <th>Comments in Last 48-24 Hours Relative to Base Date/Time</th>\n",
              "      <th>Comments in First 24 Hours Before Base Date/Time</th>\n",
              "      <th>Difference between Comments in Last 24 and 48-24 Hours</th>\n",
              "      <th>Selected Time</th>\n",
              "      <th>Post Length</th>\n",
              "      <th>Post Share Count</th>\n",
              "      <th>Post Promotion Status</th>\n",
              "      <th>H Hrs Local</th>\n",
              "      <th>40</th>\n",
              "      <th>41</th>\n",
              "      <th>42</th>\n",
              "      <th>43</th>\n",
              "      <th>44</th>\n",
              "      <th>45</th>\n",
              "      <th>46</th>\n",
              "      <th>47</th>\n",
              "      <th>48</th>\n",
              "      <th>49</th>\n",
              "      <th>50</th>\n",
              "      <th>51</th>\n",
              "      <th>52</th>\n",
              "      <th>53</th>\n",
              "      <th>Number Of Predicted Comments</th>\n",
              "    </tr>\n",
              "  </thead>\n",
              "  <tbody>\n",
              "    <tr>\n",
              "      <th>count</th>\n",
              "      <td>4.447270e+05</td>\n",
              "      <td>444727.000000</td>\n",
              "      <td>4.447270e+05</td>\n",
              "      <td>444727.000000</td>\n",
              "      <td>444727.000000</td>\n",
              "      <td>444727.000000</td>\n",
              "      <td>444727.000000</td>\n",
              "      <td>444727.000000</td>\n",
              "      <td>444727.000000</td>\n",
              "      <td>444727.000000</td>\n",
              "      <td>444727.000000</td>\n",
              "      <td>444727.000000</td>\n",
              "      <td>444727.000000</td>\n",
              "      <td>444727.000000</td>\n",
              "      <td>444727.000000</td>\n",
              "      <td>444727.000000</td>\n",
              "      <td>444727.000000</td>\n",
              "      <td>444727.000000</td>\n",
              "      <td>444727.000000</td>\n",
              "      <td>444727.000000</td>\n",
              "      <td>444727.000000</td>\n",
              "      <td>444727.000000</td>\n",
              "      <td>444727.000000</td>\n",
              "      <td>444727.000000</td>\n",
              "      <td>444727.000000</td>\n",
              "      <td>444727.000000</td>\n",
              "      <td>444727.000000</td>\n",
              "      <td>444727.000000</td>\n",
              "      <td>444727.000000</td>\n",
              "      <td>444727.000000</td>\n",
              "      <td>444727.000000</td>\n",
              "      <td>444727.000000</td>\n",
              "      <td>444727.000000</td>\n",
              "      <td>444727.000000</td>\n",
              "      <td>444727.000000</td>\n",
              "      <td>444727.000000</td>\n",
              "      <td>444727.000000</td>\n",
              "      <td>444727.0</td>\n",
              "      <td>444727.000000</td>\n",
              "      <td>444727.000000</td>\n",
              "      <td>444727.000000</td>\n",
              "      <td>444727.000000</td>\n",
              "      <td>444727.000000</td>\n",
              "      <td>444727.000000</td>\n",
              "      <td>444727.000000</td>\n",
              "      <td>444727.000000</td>\n",
              "      <td>444727.000000</td>\n",
              "      <td>444727.000000</td>\n",
              "      <td>444727.000000</td>\n",
              "      <td>444727.000000</td>\n",
              "      <td>444727.000000</td>\n",
              "      <td>444727.000000</td>\n",
              "      <td>444727.000000</td>\n",
              "      <td>444727.000000</td>\n",
              "    </tr>\n",
              "    <tr>\n",
              "      <th>mean</th>\n",
              "      <td>1.313598e+06</td>\n",
              "      <td>4672.938200</td>\n",
              "      <td>4.476669e+04</td>\n",
              "      <td>24.250441</td>\n",
              "      <td>0.813245</td>\n",
              "      <td>471.000277</td>\n",
              "      <td>55.832195</td>\n",
              "      <td>35.417272</td>\n",
              "      <td>67.869807</td>\n",
              "      <td>0.116728</td>\n",
              "      <td>344.361950</td>\n",
              "      <td>21.873075</td>\n",
              "      <td>7.229914</td>\n",
              "      <td>40.702483</td>\n",
              "      <td>0.006100</td>\n",
              "      <td>336.997228</td>\n",
              "      <td>19.937745</td>\n",
              "      <td>4.901717</td>\n",
              "      <td>40.081050</td>\n",
              "      <td>0.792743</td>\n",
              "      <td>429.322506</td>\n",
              "      <td>52.687524</td>\n",
              "      <td>33.791902</td>\n",
              "      <td>63.349827</td>\n",
              "      <td>-285.884673</td>\n",
              "      <td>337.775022</td>\n",
              "      <td>1.935330</td>\n",
              "      <td>-2.157497</td>\n",
              "      <td>56.524121</td>\n",
              "      <td>55.832340</td>\n",
              "      <td>21.873136</td>\n",
              "      <td>19.937789</td>\n",
              "      <td>52.687647</td>\n",
              "      <td>1.935347</td>\n",
              "      <td>35.445089</td>\n",
              "      <td>163.635835</td>\n",
              "      <td>117.270804</td>\n",
              "      <td>0.0</td>\n",
              "      <td>23.773160</td>\n",
              "      <td>0.122322</td>\n",
              "      <td>0.143223</td>\n",
              "      <td>0.149750</td>\n",
              "      <td>0.157303</td>\n",
              "      <td>0.144226</td>\n",
              "      <td>0.146243</td>\n",
              "      <td>0.136933</td>\n",
              "      <td>0.140500</td>\n",
              "      <td>0.133318</td>\n",
              "      <td>0.138150</td>\n",
              "      <td>0.146690</td>\n",
              "      <td>0.154160</td>\n",
              "      <td>0.144756</td>\n",
              "      <td>0.142427</td>\n",
              "      <td>0.031226</td>\n",
              "    </tr>\n",
              "    <tr>\n",
              "      <th>std</th>\n",
              "      <td>6.816461e+06</td>\n",
              "      <td>20578.599733</td>\n",
              "      <td>1.110092e+05</td>\n",
              "      <td>19.944907</td>\n",
              "      <td>13.961850</td>\n",
              "      <td>525.478066</td>\n",
              "      <td>86.528025</td>\n",
              "      <td>68.915809</td>\n",
              "      <td>82.560976</td>\n",
              "      <td>5.812971</td>\n",
              "      <td>416.755833</td>\n",
              "      <td>36.058074</td>\n",
              "      <td>19.929172</td>\n",
              "      <td>52.571634</td>\n",
              "      <td>0.904842</td>\n",
              "      <td>403.453228</td>\n",
              "      <td>31.154825</td>\n",
              "      <td>13.201298</td>\n",
              "      <td>52.004716</td>\n",
              "      <td>13.367045</td>\n",
              "      <td>486.050087</td>\n",
              "      <td>80.998014</td>\n",
              "      <td>65.196071</td>\n",
              "      <td>77.017957</td>\n",
              "      <td>356.472726</td>\n",
              "      <td>416.193642</td>\n",
              "      <td>13.457663</td>\n",
              "      <td>12.587571</td>\n",
              "      <td>74.280711</td>\n",
              "      <td>137.512966</td>\n",
              "      <td>75.635196</td>\n",
              "      <td>72.674729</td>\n",
              "      <td>128.474525</td>\n",
              "      <td>94.306651</td>\n",
              "      <td>20.954635</td>\n",
              "      <td>375.881766</td>\n",
              "      <td>949.360608</td>\n",
              "      <td>0.0</td>\n",
              "      <td>1.877816</td>\n",
              "      <td>0.327658</td>\n",
              "      <td>0.350300</td>\n",
              "      <td>0.356827</td>\n",
              "      <td>0.364087</td>\n",
              "      <td>0.351319</td>\n",
              "      <td>0.353350</td>\n",
              "      <td>0.343777</td>\n",
              "      <td>0.347505</td>\n",
              "      <td>0.339918</td>\n",
              "      <td>0.345058</td>\n",
              "      <td>0.353797</td>\n",
              "      <td>0.361102</td>\n",
              "      <td>0.351855</td>\n",
              "      <td>0.349488</td>\n",
              "      <td>0.173928</td>\n",
              "    </tr>\n",
              "    <tr>\n",
              "      <th>min</th>\n",
              "      <td>3.600000e+01</td>\n",
              "      <td>0.000000</td>\n",
              "      <td>0.000000e+00</td>\n",
              "      <td>1.000000</td>\n",
              "      <td>0.000000</td>\n",
              "      <td>0.000000</td>\n",
              "      <td>0.000000</td>\n",
              "      <td>0.000000</td>\n",
              "      <td>0.000000</td>\n",
              "      <td>0.000000</td>\n",
              "      <td>0.000000</td>\n",
              "      <td>0.000000</td>\n",
              "      <td>0.000000</td>\n",
              "      <td>0.000000</td>\n",
              "      <td>0.000000</td>\n",
              "      <td>0.000000</td>\n",
              "      <td>0.000000</td>\n",
              "      <td>0.000000</td>\n",
              "      <td>0.000000</td>\n",
              "      <td>0.000000</td>\n",
              "      <td>0.000000</td>\n",
              "      <td>0.000000</td>\n",
              "      <td>0.000000</td>\n",
              "      <td>0.000000</td>\n",
              "      <td>-2011.000000</td>\n",
              "      <td>-204.000000</td>\n",
              "      <td>-584.666667</td>\n",
              "      <td>-1411.000000</td>\n",
              "      <td>0.000000</td>\n",
              "      <td>0.000000</td>\n",
              "      <td>0.000000</td>\n",
              "      <td>0.000000</td>\n",
              "      <td>0.000000</td>\n",
              "      <td>-2011.000000</td>\n",
              "      <td>0.000000</td>\n",
              "      <td>0.000000</td>\n",
              "      <td>1.000000</td>\n",
              "      <td>0.0</td>\n",
              "      <td>1.000000</td>\n",
              "      <td>0.000000</td>\n",
              "      <td>0.000000</td>\n",
              "      <td>0.000000</td>\n",
              "      <td>0.000000</td>\n",
              "      <td>0.000000</td>\n",
              "      <td>0.000000</td>\n",
              "      <td>0.000000</td>\n",
              "      <td>0.000000</td>\n",
              "      <td>0.000000</td>\n",
              "      <td>0.000000</td>\n",
              "      <td>0.000000</td>\n",
              "      <td>0.000000</td>\n",
              "      <td>0.000000</td>\n",
              "      <td>0.000000</td>\n",
              "      <td>0.000000</td>\n",
              "    </tr>\n",
              "    <tr>\n",
              "      <th>20%</th>\n",
              "      <td>2.398500e+04</td>\n",
              "      <td>0.000000</td>\n",
              "      <td>4.420000e+02</td>\n",
              "      <td>9.000000</td>\n",
              "      <td>0.000000</td>\n",
              "      <td>38.000000</td>\n",
              "      <td>3.955056</td>\n",
              "      <td>2.000000</td>\n",
              "      <td>5.652212</td>\n",
              "      <td>0.000000</td>\n",
              "      <td>24.000000</td>\n",
              "      <td>1.439560</td>\n",
              "      <td>0.000000</td>\n",
              "      <td>3.242442</td>\n",
              "      <td>0.000000</td>\n",
              "      <td>24.000000</td>\n",
              "      <td>1.384615</td>\n",
              "      <td>0.000000</td>\n",
              "      <td>3.274958</td>\n",
              "      <td>0.000000</td>\n",
              "      <td>34.000000</td>\n",
              "      <td>3.605381</td>\n",
              "      <td>1.000000</td>\n",
              "      <td>5.349683</td>\n",
              "      <td>-531.000000</td>\n",
              "      <td>23.000000</td>\n",
              "      <td>-0.431579</td>\n",
              "      <td>-4.000000</td>\n",
              "      <td>4.664967</td>\n",
              "      <td>1.000000</td>\n",
              "      <td>0.000000</td>\n",
              "      <td>0.000000</td>\n",
              "      <td>1.000000</td>\n",
              "      <td>-10.000000</td>\n",
              "      <td>14.000000</td>\n",
              "      <td>26.000000</td>\n",
              "      <td>1.000000</td>\n",
              "      <td>0.0</td>\n",
              "      <td>24.000000</td>\n",
              "      <td>0.000000</td>\n",
              "      <td>0.000000</td>\n",
              "      <td>0.000000</td>\n",
              "      <td>0.000000</td>\n",
              "      <td>0.000000</td>\n",
              "      <td>0.000000</td>\n",
              "      <td>0.000000</td>\n",
              "      <td>0.000000</td>\n",
              "      <td>0.000000</td>\n",
              "      <td>0.000000</td>\n",
              "      <td>0.000000</td>\n",
              "      <td>0.000000</td>\n",
              "      <td>0.000000</td>\n",
              "      <td>0.000000</td>\n",
              "      <td>0.000000</td>\n",
              "    </tr>\n",
              "    <tr>\n",
              "      <th>40%</th>\n",
              "      <td>1.491390e+05</td>\n",
              "      <td>0.000000</td>\n",
              "      <td>2.773000e+03</td>\n",
              "      <td>16.000000</td>\n",
              "      <td>0.000000</td>\n",
              "      <td>154.000000</td>\n",
              "      <td>13.314488</td>\n",
              "      <td>7.000000</td>\n",
              "      <td>20.181735</td>\n",
              "      <td>0.000000</td>\n",
              "      <td>99.000000</td>\n",
              "      <td>5.223684</td>\n",
              "      <td>1.000000</td>\n",
              "      <td>11.078193</td>\n",
              "      <td>0.000000</td>\n",
              "      <td>96.000000</td>\n",
              "      <td>4.746988</td>\n",
              "      <td>0.500000</td>\n",
              "      <td>10.681144</td>\n",
              "      <td>0.000000</td>\n",
              "      <td>135.000000</td>\n",
              "      <td>12.375000</td>\n",
              "      <td>6.000000</td>\n",
              "      <td>18.824887</td>\n",
              "      <td>-221.000000</td>\n",
              "      <td>96.000000</td>\n",
              "      <td>0.054054</td>\n",
              "      <td>-1.000000</td>\n",
              "      <td>15.739369</td>\n",
              "      <td>6.000000</td>\n",
              "      <td>1.000000</td>\n",
              "      <td>0.000000</td>\n",
              "      <td>6.000000</td>\n",
              "      <td>-1.000000</td>\n",
              "      <td>28.000000</td>\n",
              "      <td>74.000000</td>\n",
              "      <td>4.000000</td>\n",
              "      <td>0.0</td>\n",
              "      <td>24.000000</td>\n",
              "      <td>0.000000</td>\n",
              "      <td>0.000000</td>\n",
              "      <td>0.000000</td>\n",
              "      <td>0.000000</td>\n",
              "      <td>0.000000</td>\n",
              "      <td>0.000000</td>\n",
              "      <td>0.000000</td>\n",
              "      <td>0.000000</td>\n",
              "      <td>0.000000</td>\n",
              "      <td>0.000000</td>\n",
              "      <td>0.000000</td>\n",
              "      <td>0.000000</td>\n",
              "      <td>0.000000</td>\n",
              "      <td>0.000000</td>\n",
              "      <td>0.000000</td>\n",
              "    </tr>\n",
              "    <tr>\n",
              "      <th>50%</th>\n",
              "      <td>2.929110e+05</td>\n",
              "      <td>0.000000</td>\n",
              "      <td>7.045000e+03</td>\n",
              "      <td>18.000000</td>\n",
              "      <td>0.000000</td>\n",
              "      <td>246.000000</td>\n",
              "      <td>23.729765</td>\n",
              "      <td>12.000000</td>\n",
              "      <td>33.233348</td>\n",
              "      <td>0.000000</td>\n",
              "      <td>159.000000</td>\n",
              "      <td>8.759322</td>\n",
              "      <td>2.000000</td>\n",
              "      <td>18.670111</td>\n",
              "      <td>0.000000</td>\n",
              "      <td>152.000000</td>\n",
              "      <td>8.133663</td>\n",
              "      <td>1.000000</td>\n",
              "      <td>18.933186</td>\n",
              "      <td>0.000000</td>\n",
              "      <td>231.000000</td>\n",
              "      <td>21.680070</td>\n",
              "      <td>12.000000</td>\n",
              "      <td>31.079673</td>\n",
              "      <td>-128.000000</td>\n",
              "      <td>151.000000</td>\n",
              "      <td>0.219626</td>\n",
              "      <td>0.000000</td>\n",
              "      <td>25.481725</td>\n",
              "      <td>11.000000</td>\n",
              "      <td>2.000000</td>\n",
              "      <td>0.000000</td>\n",
              "      <td>10.000000</td>\n",
              "      <td>0.000000</td>\n",
              "      <td>35.000000</td>\n",
              "      <td>97.000000</td>\n",
              "      <td>13.000000</td>\n",
              "      <td>0.0</td>\n",
              "      <td>24.000000</td>\n",
              "      <td>0.000000</td>\n",
              "      <td>0.000000</td>\n",
              "      <td>0.000000</td>\n",
              "      <td>0.000000</td>\n",
              "      <td>0.000000</td>\n",
              "      <td>0.000000</td>\n",
              "      <td>0.000000</td>\n",
              "      <td>0.000000</td>\n",
              "      <td>0.000000</td>\n",
              "      <td>0.000000</td>\n",
              "      <td>0.000000</td>\n",
              "      <td>0.000000</td>\n",
              "      <td>0.000000</td>\n",
              "      <td>0.000000</td>\n",
              "      <td>0.000000</td>\n",
              "    </tr>\n",
              "    <tr>\n",
              "      <th>60%</th>\n",
              "      <td>4.564780e+05</td>\n",
              "      <td>0.000000</td>\n",
              "      <td>1.930100e+04</td>\n",
              "      <td>24.000000</td>\n",
              "      <td>0.000000</td>\n",
              "      <td>411.000000</td>\n",
              "      <td>34.434829</td>\n",
              "      <td>19.000000</td>\n",
              "      <td>52.131238</td>\n",
              "      <td>0.000000</td>\n",
              "      <td>278.000000</td>\n",
              "      <td>12.606061</td>\n",
              "      <td>3.500000</td>\n",
              "      <td>30.302196</td>\n",
              "      <td>0.000000</td>\n",
              "      <td>282.000000</td>\n",
              "      <td>12.248162</td>\n",
              "      <td>2.000000</td>\n",
              "      <td>30.515248</td>\n",
              "      <td>0.000000</td>\n",
              "      <td>363.000000</td>\n",
              "      <td>32.263889</td>\n",
              "      <td>19.000000</td>\n",
              "      <td>47.193977</td>\n",
              "      <td>-80.000000</td>\n",
              "      <td>262.000000</td>\n",
              "      <td>0.589655</td>\n",
              "      <td>0.000000</td>\n",
              "      <td>40.705810</td>\n",
              "      <td>19.000000</td>\n",
              "      <td>4.000000</td>\n",
              "      <td>2.000000</td>\n",
              "      <td>18.000000</td>\n",
              "      <td>0.000000</td>\n",
              "      <td>42.000000</td>\n",
              "      <td>122.000000</td>\n",
              "      <td>23.000000</td>\n",
              "      <td>0.0</td>\n",
              "      <td>24.000000</td>\n",
              "      <td>0.000000</td>\n",
              "      <td>0.000000</td>\n",
              "      <td>0.000000</td>\n",
              "      <td>0.000000</td>\n",
              "      <td>0.000000</td>\n",
              "      <td>0.000000</td>\n",
              "      <td>0.000000</td>\n",
              "      <td>0.000000</td>\n",
              "      <td>0.000000</td>\n",
              "      <td>0.000000</td>\n",
              "      <td>0.000000</td>\n",
              "      <td>0.000000</td>\n",
              "      <td>0.000000</td>\n",
              "      <td>0.000000</td>\n",
              "      <td>0.000000</td>\n",
              "    </tr>\n",
              "    <tr>\n",
              "      <th>80%</th>\n",
              "      <td>1.552629e+06</td>\n",
              "      <td>214.000000</td>\n",
              "      <td>6.212200e+04</td>\n",
              "      <td>36.000000</td>\n",
              "      <td>0.000000</td>\n",
              "      <td>867.000000</td>\n",
              "      <td>96.963731</td>\n",
              "      <td>51.500000</td>\n",
              "      <td>124.440148</td>\n",
              "      <td>0.000000</td>\n",
              "      <td>638.000000</td>\n",
              "      <td>38.131313</td>\n",
              "      <td>9.000000</td>\n",
              "      <td>73.399607</td>\n",
              "      <td>0.000000</td>\n",
              "      <td>629.000000</td>\n",
              "      <td>34.835391</td>\n",
              "      <td>7.000000</td>\n",
              "      <td>73.894539</td>\n",
              "      <td>0.000000</td>\n",
              "      <td>793.000000</td>\n",
              "      <td>92.680769</td>\n",
              "      <td>49.000000</td>\n",
              "      <td>116.792542</td>\n",
              "      <td>-21.000000</td>\n",
              "      <td>626.000000</td>\n",
              "      <td>2.583969</td>\n",
              "      <td>0.000000</td>\n",
              "      <td>99.692870</td>\n",
              "      <td>64.000000</td>\n",
              "      <td>17.000000</td>\n",
              "      <td>14.000000</td>\n",
              "      <td>61.000000</td>\n",
              "      <td>7.000000</td>\n",
              "      <td>57.000000</td>\n",
              "      <td>199.000000</td>\n",
              "      <td>86.000000</td>\n",
              "      <td>0.0</td>\n",
              "      <td>24.000000</td>\n",
              "      <td>0.000000</td>\n",
              "      <td>0.000000</td>\n",
              "      <td>0.000000</td>\n",
              "      <td>0.000000</td>\n",
              "      <td>0.000000</td>\n",
              "      <td>0.000000</td>\n",
              "      <td>0.000000</td>\n",
              "      <td>0.000000</td>\n",
              "      <td>0.000000</td>\n",
              "      <td>0.000000</td>\n",
              "      <td>0.000000</td>\n",
              "      <td>0.000000</td>\n",
              "      <td>0.000000</td>\n",
              "      <td>0.000000</td>\n",
              "      <td>0.000000</td>\n",
              "    </tr>\n",
              "    <tr>\n",
              "      <th>max</th>\n",
              "      <td>4.869723e+08</td>\n",
              "      <td>186370.000000</td>\n",
              "      <td>6.089942e+06</td>\n",
              "      <td>106.000000</td>\n",
              "      <td>2341.000000</td>\n",
              "      <td>2495.000000</td>\n",
              "      <td>2341.000000</td>\n",
              "      <td>2347.000000</td>\n",
              "      <td>1023.765690</td>\n",
              "      <td>1923.000000</td>\n",
              "      <td>2131.000000</td>\n",
              "      <td>1923.000000</td>\n",
              "      <td>1923.000000</td>\n",
              "      <td>809.157702</td>\n",
              "      <td>324.000000</td>\n",
              "      <td>2162.000000</td>\n",
              "      <td>1267.333333</td>\n",
              "      <td>1879.000000</td>\n",
              "      <td>896.320007</td>\n",
              "      <td>1923.000000</td>\n",
              "      <td>2184.000000</td>\n",
              "      <td>1923.000000</td>\n",
              "      <td>2106.000000</td>\n",
              "      <td>900.068435</td>\n",
              "      <td>1923.000000</td>\n",
              "      <td>2131.000000</td>\n",
              "      <td>1923.000000</td>\n",
              "      <td>1923.000000</td>\n",
              "      <td>1240.113525</td>\n",
              "      <td>2495.000000</td>\n",
              "      <td>2131.000000</td>\n",
              "      <td>2162.000000</td>\n",
              "      <td>2184.000000</td>\n",
              "      <td>2131.000000</td>\n",
              "      <td>72.000000</td>\n",
              "      <td>21480.000000</td>\n",
              "      <td>144860.000000</td>\n",
              "      <td>0.0</td>\n",
              "      <td>24.000000</td>\n",
              "      <td>1.000000</td>\n",
              "      <td>1.000000</td>\n",
              "      <td>1.000000</td>\n",
              "      <td>1.000000</td>\n",
              "      <td>1.000000</td>\n",
              "      <td>1.000000</td>\n",
              "      <td>1.000000</td>\n",
              "      <td>1.000000</td>\n",
              "      <td>1.000000</td>\n",
              "      <td>1.000000</td>\n",
              "      <td>1.000000</td>\n",
              "      <td>1.000000</td>\n",
              "      <td>1.000000</td>\n",
              "      <td>1.000000</td>\n",
              "      <td>1.000000</td>\n",
              "    </tr>\n",
              "  </tbody>\n",
              "</table>\n",
              "</div>"
            ],
            "text/plain": [
              "       Page Popularity/likes  ...  Number Of Predicted Comments\n",
              "count           4.447270e+05  ...                 444727.000000\n",
              "mean            1.313598e+06  ...                      0.031226\n",
              "std             6.816461e+06  ...                      0.173928\n",
              "min             3.600000e+01  ...                      0.000000\n",
              "20%             2.398500e+04  ...                      0.000000\n",
              "40%             1.491390e+05  ...                      0.000000\n",
              "50%             2.929110e+05  ...                      0.000000\n",
              "60%             4.564780e+05  ...                      0.000000\n",
              "80%             1.552629e+06  ...                      0.000000\n",
              "max             4.869723e+08  ...                      1.000000\n",
              "\n",
              "[10 rows x 54 columns]"
            ]
          },
          "metadata": {
            "tags": []
          },
          "execution_count": 58
        }
      ]
    },
    {
      "cell_type": "markdown",
      "metadata": {
        "id": "K78htL-jINja",
        "colab_type": "text"
      },
      "source": [
        "First we make a copy of the unaltered dataset. Then, we locate values in the column of the dataframe labeled 'Number Of Predicted Comments' that are < 50 and >= 50. The target values in this column become all ones and zeros."
      ]
    },
    {
      "cell_type": "code",
      "metadata": {
        "id": "i4W1SlCRv5PC",
        "colab_type": "code",
        "colab": {
          "base_uri": "https://localhost:8080/",
          "height": 88
        },
        "outputId": "f35dba56-f89f-4724-ec19-0e8bf604c053"
      },
      "source": [
        "\n",
        "#biData['Number Of Predicted Comments'].astype(bool).sum(axis=0) #was 198750\n",
        "\n",
        "numOnes = np.count_nonzero(biData['Number Of Predicted Comments'])\n",
        "numZeros= len(biData['Number Of Predicted Comments']) - numOnes\n",
        "print('Number of Zeros: ',numZeros)\n",
        "print('Number of Ones: ', numOnes)\n",
        "print('Sum of numZeros and numOnes: ',numZeros+numOnes)\n",
        "print('Number of entries in column: ', len(dataset['Number Of Predicted Comments'])) "
      ],
      "execution_count": null,
      "outputs": [
        {
          "output_type": "stream",
          "text": [
            "Number of Zeros:  430840\n",
            "Number of Ones:  13887\n",
            "Sum of numZeros and numOnes:  444727\n",
            "Number of entries in column:  444727\n"
          ],
          "name": "stdout"
        }
      ]
    },
    {
      "cell_type": "markdown",
      "metadata": {
        "id": "wZWYteurfb5p",
        "colab_type": "text"
      },
      "source": [
        "As shown by the above results, we see that the binary transformation was successful in turning all target values to 0s and 1s.\n",
        "We make sure that the length of the 'Number Of Predicted Comments' column in the original dataset is the same as the sum of our count of 0s and 1s. "
      ]
    },
    {
      "cell_type": "markdown",
      "metadata": {
        "id": "oK2gakjyKiYc",
        "colab_type": "text"
      },
      "source": [
        "### Feature Selection with Decision Tree"
      ]
    },
    {
      "cell_type": "markdown",
      "metadata": {
        "id": "zS3Lnq1OIXEP",
        "colab_type": "text"
      },
      "source": [
        "Since we see that we have 53 attributes based on the number of columns, we want to determine which features will be the most useful to the model. Feature selection allows us to reduce the amount of data and processing for the model. It can also improve the performance of the model.\n",
        "\n",
        "SKLearn's Decision Tree Classifier calculates the feature importances by doing feature selection algorithm based on Gini Importance. Gini Importance calculates each feature importance as the sum over the number of splits that include the feature, proportionally to the total splits.\n",
        "\n",
        "We will use the Decision Tree Classifier to perform feature selection on the dataset. We will explain the need for having a train and test set from the dataset later on."
      ]
    },
    {
      "cell_type": "code",
      "metadata": {
        "id": "9QO7Q7ZQZTOy",
        "colab_type": "code",
        "colab": {}
      },
      "source": [
        "# resource: https://datascience.stackexchange.com/questions/23954/is-there-a-model-agnostic-way-to-determine-feature-importance\n",
        "\n",
        "from sklearn.model_selection import train_test_split\n",
        "\n",
        "# train_Test_split: x = independent features, y = dependent variable (training and test sets) 20% dataset for test, 42 for  random num seed\n",
        "xTrain, xTest, yTrain, yTest = train_test_split(biData.drop(['Number Of Predicted Comments'], axis=1),biData['Number Of Predicted Comments'], test_size=0.20, random_state=42)"
      ],
      "execution_count": null,
      "outputs": []
    },
    {
      "cell_type": "markdown",
      "metadata": {
        "id": "uj-0NuONaHJE",
        "colab_type": "text"
      },
      "source": [
        "###Decision Tree"
      ]
    },
    {
      "cell_type": "markdown",
      "metadata": {
        "id": "ZT_EnOOEK8bA",
        "colab_type": "text"
      },
      "source": [
        "Here we use the Decision Tree Classifier on the dataset."
      ]
    },
    {
      "cell_type": "code",
      "metadata": {
        "id": "lyiwE6O8ZYti",
        "colab_type": "code",
        "colab": {
          "base_uri": "https://localhost:8080/",
          "height": 124
        },
        "outputId": "6e33fb29-2376-463f-e9b6-4d709d30bbec"
      },
      "source": [
        "from sklearn.tree import DecisionTreeClassifier\n",
        "clf_dt = DecisionTreeClassifier()\n",
        "clf_dt.fit(xTrain, yTrain)"
      ],
      "execution_count": null,
      "outputs": [
        {
          "output_type": "execute_result",
          "data": {
            "text/plain": [
              "DecisionTreeClassifier(ccp_alpha=0.0, class_weight=None, criterion='gini',\n",
              "                       max_depth=None, max_features=None, max_leaf_nodes=None,\n",
              "                       min_impurity_decrease=0.0, min_impurity_split=None,\n",
              "                       min_samples_leaf=1, min_samples_split=2,\n",
              "                       min_weight_fraction_leaf=0.0, presort='deprecated',\n",
              "                       random_state=None, splitter='best')"
            ]
          },
          "metadata": {
            "tags": []
          },
          "execution_count": 61
        }
      ]
    },
    {
      "cell_type": "markdown",
      "metadata": {
        "id": "fpsSLmU3MGzf",
        "colab_type": "text"
      },
      "source": [
        "####Features Importances"
      ]
    },
    {
      "cell_type": "markdown",
      "metadata": {
        "id": "GT80GpwSLIN4",
        "colab_type": "text"
      },
      "source": [
        "Now we use the Decision Tree Classifier to find the features importances for the feature selection."
      ]
    },
    {
      "cell_type": "code",
      "metadata": {
        "id": "lyf3ziHDMFWw",
        "colab_type": "code",
        "colab": {
          "base_uri": "https://localhost:8080/",
          "height": 703
        },
        "outputId": "9fc4243f-2c43-46e7-dc03-449c22ce0953"
      },
      "source": [
        "# remove the target column from the decision tree classifier\n",
        "cols = list(biData.columns)\n",
        "cols.remove('Number Of Predicted Comments')\n",
        "\n",
        "feat_importances = pd.Series(clf_dt.feature_importances_, index=cols)\n",
        "feat_importances.plot(kind='barh', figsize=(12,12))\n",
        "plt.show()\n"
      ],
      "execution_count": null,
      "outputs": [
        {
          "output_type": "display_data",
          "data": {
            "image/png": "[encoded data removed]",
            "text/plain": [
              "<Figure size 864x864 with 1 Axes>"
            ]
          },
          "metadata": {
            "tags": []
          }
        }
      ]
    },
    {
      "cell_type": "markdown",
      "metadata": {
        "id": "EWAK9I1xMTlp",
        "colab_type": "text"
      },
      "source": [
        "####Remove Unnecessary Columns"
      ]
    },
    {
      "cell_type": "markdown",
      "metadata": {
        "id": "c6wIkx5aLf7x",
        "colab_type": "text"
      },
      "source": [
        "After finding the feature importances of the dataset, we see that that several columns have no feature importance value. We will remove these columns from the dataset."
      ]
    },
    {
      "cell_type": "code",
      "metadata": {
        "id": "ldZseYPnJ32f",
        "colab_type": "code",
        "colab": {
          "base_uri": "https://localhost:8080/",
          "height": 386
        },
        "outputId": "c7362c5e-a28c-4f11-f10d-3f0d1e1e5db9"
      },
      "source": [
        "#excluded features for values zero or close to zero\n",
        "excludedFeats = ['5', '10', '15', '20', 'Post Promotion Status', 'H Hrs Local']\n",
        "\n",
        "#the errors = 'ignore' is to stop the error raise in future runs after the features have already been dropped\n",
        "biData = biData.drop( excludedFeats ,axis=1, errors = 'ignore')\n",
        "\n",
        "#Shows our remaining features after feature selection\n",
        "biData.describe()"
      ],
      "execution_count": null,
      "outputs": [
        {
          "output_type": "execute_result",
          "data": {
            "text/html": [
              "<div>\n",
              "<style scoped>\n",
              "    .dataframe tbody tr th:only-of-type {\n",
              "        vertical-align: middle;\n",
              "    }\n",
              "\n",
              "    .dataframe tbody tr th {\n",
              "        vertical-align: top;\n",
              "    }\n",
              "\n",
              "    .dataframe thead th {\n",
              "        text-align: right;\n",
              "    }\n",
              "</style>\n",
              "<table border=\"1\" class=\"dataframe\">\n",
              "  <thead>\n",
              "    <tr style=\"text-align: right;\">\n",
              "      <th></th>\n",
              "      <th>Page Popularity/likes</th>\n",
              "      <th>Page Check-ins</th>\n",
              "      <th>Page Talking About</th>\n",
              "      <th>Page Category</th>\n",
              "      <th>6</th>\n",
              "      <th>7</th>\n",
              "      <th>8</th>\n",
              "      <th>9</th>\n",
              "      <th>11</th>\n",
              "      <th>12</th>\n",
              "      <th>13</th>\n",
              "      <th>14</th>\n",
              "      <th>16</th>\n",
              "      <th>17</th>\n",
              "      <th>18</th>\n",
              "      <th>19</th>\n",
              "      <th>21</th>\n",
              "      <th>22</th>\n",
              "      <th>23</th>\n",
              "      <th>24</th>\n",
              "      <th>25</th>\n",
              "      <th>26</th>\n",
              "      <th>27</th>\n",
              "      <th>28</th>\n",
              "      <th>29</th>\n",
              "      <th>Comments Before Selected Date/Time</th>\n",
              "      <th>Comments in Last 24 Hours Relative to Base Date/Time</th>\n",
              "      <th>Comments in Last 48-24 Hours Relative to Base Date/Time</th>\n",
              "      <th>Comments in First 24 Hours Before Base Date/Time</th>\n",
              "      <th>Difference between Comments in Last 24 and 48-24 Hours</th>\n",
              "      <th>Selected Time</th>\n",
              "      <th>Post Length</th>\n",
              "      <th>Post Share Count</th>\n",
              "      <th>40</th>\n",
              "      <th>41</th>\n",
              "      <th>42</th>\n",
              "      <th>43</th>\n",
              "      <th>44</th>\n",
              "      <th>45</th>\n",
              "      <th>46</th>\n",
              "      <th>47</th>\n",
              "      <th>48</th>\n",
              "      <th>49</th>\n",
              "      <th>50</th>\n",
              "      <th>51</th>\n",
              "      <th>52</th>\n",
              "      <th>53</th>\n",
              "      <th>Number Of Predicted Comments</th>\n",
              "    </tr>\n",
              "  </thead>\n",
              "  <tbody>\n",
              "    <tr>\n",
              "      <th>count</th>\n",
              "      <td>4.447270e+05</td>\n",
              "      <td>444727.000000</td>\n",
              "      <td>4.447270e+05</td>\n",
              "      <td>444727.000000</td>\n",
              "      <td>444727.000000</td>\n",
              "      <td>444727.000000</td>\n",
              "      <td>444727.000000</td>\n",
              "      <td>444727.000000</td>\n",
              "      <td>444727.000000</td>\n",
              "      <td>444727.000000</td>\n",
              "      <td>444727.000000</td>\n",
              "      <td>444727.000000</td>\n",
              "      <td>444727.000000</td>\n",
              "      <td>444727.000000</td>\n",
              "      <td>444727.000000</td>\n",
              "      <td>444727.000000</td>\n",
              "      <td>444727.000000</td>\n",
              "      <td>444727.000000</td>\n",
              "      <td>444727.000000</td>\n",
              "      <td>444727.000000</td>\n",
              "      <td>444727.000000</td>\n",
              "      <td>444727.000000</td>\n",
              "      <td>444727.000000</td>\n",
              "      <td>444727.000000</td>\n",
              "      <td>444727.000000</td>\n",
              "      <td>444727.000000</td>\n",
              "      <td>444727.000000</td>\n",
              "      <td>444727.000000</td>\n",
              "      <td>444727.000000</td>\n",
              "      <td>444727.000000</td>\n",
              "      <td>444727.000000</td>\n",
              "      <td>444727.000000</td>\n",
              "      <td>444727.000000</td>\n",
              "      <td>444727.000000</td>\n",
              "      <td>444727.000000</td>\n",
              "      <td>444727.000000</td>\n",
              "      <td>444727.000000</td>\n",
              "      <td>444727.000000</td>\n",
              "      <td>444727.000000</td>\n",
              "      <td>444727.000000</td>\n",
              "      <td>444727.000000</td>\n",
              "      <td>444727.000000</td>\n",
              "      <td>444727.000000</td>\n",
              "      <td>444727.000000</td>\n",
              "      <td>444727.000000</td>\n",
              "      <td>444727.000000</td>\n",
              "      <td>444727.000000</td>\n",
              "      <td>444727.000000</td>\n",
              "    </tr>\n",
              "    <tr>\n",
              "      <th>mean</th>\n",
              "      <td>1.313598e+06</td>\n",
              "      <td>4672.938200</td>\n",
              "      <td>4.476669e+04</td>\n",
              "      <td>24.250441</td>\n",
              "      <td>471.000277</td>\n",
              "      <td>55.832195</td>\n",
              "      <td>35.417272</td>\n",
              "      <td>67.869807</td>\n",
              "      <td>344.361950</td>\n",
              "      <td>21.873075</td>\n",
              "      <td>7.229914</td>\n",
              "      <td>40.702483</td>\n",
              "      <td>336.997228</td>\n",
              "      <td>19.937745</td>\n",
              "      <td>4.901717</td>\n",
              "      <td>40.081050</td>\n",
              "      <td>429.322506</td>\n",
              "      <td>52.687524</td>\n",
              "      <td>33.791902</td>\n",
              "      <td>63.349827</td>\n",
              "      <td>-285.884673</td>\n",
              "      <td>337.775022</td>\n",
              "      <td>1.935330</td>\n",
              "      <td>-2.157497</td>\n",
              "      <td>56.524121</td>\n",
              "      <td>55.832340</td>\n",
              "      <td>21.873136</td>\n",
              "      <td>19.937789</td>\n",
              "      <td>52.687647</td>\n",
              "      <td>1.935347</td>\n",
              "      <td>35.445089</td>\n",
              "      <td>163.635835</td>\n",
              "      <td>117.270804</td>\n",
              "      <td>0.122322</td>\n",
              "      <td>0.143223</td>\n",
              "      <td>0.149750</td>\n",
              "      <td>0.157303</td>\n",
              "      <td>0.144226</td>\n",
              "      <td>0.146243</td>\n",
              "      <td>0.136933</td>\n",
              "      <td>0.140500</td>\n",
              "      <td>0.133318</td>\n",
              "      <td>0.138150</td>\n",
              "      <td>0.146690</td>\n",
              "      <td>0.154160</td>\n",
              "      <td>0.144756</td>\n",
              "      <td>0.142427</td>\n",
              "      <td>0.031226</td>\n",
              "    </tr>\n",
              "    <tr>\n",
              "      <th>std</th>\n",
              "      <td>6.816461e+06</td>\n",
              "      <td>20578.599733</td>\n",
              "      <td>1.110092e+05</td>\n",
              "      <td>19.944907</td>\n",
              "      <td>525.478066</td>\n",
              "      <td>86.528025</td>\n",
              "      <td>68.915809</td>\n",
              "      <td>82.560976</td>\n",
              "      <td>416.755833</td>\n",
              "      <td>36.058074</td>\n",
              "      <td>19.929172</td>\n",
              "      <td>52.571634</td>\n",
              "      <td>403.453228</td>\n",
              "      <td>31.154825</td>\n",
              "      <td>13.201298</td>\n",
              "      <td>52.004716</td>\n",
              "      <td>486.050087</td>\n",
              "      <td>80.998014</td>\n",
              "      <td>65.196071</td>\n",
              "      <td>77.017957</td>\n",
              "      <td>356.472726</td>\n",
              "      <td>416.193642</td>\n",
              "      <td>13.457663</td>\n",
              "      <td>12.587571</td>\n",
              "      <td>74.280711</td>\n",
              "      <td>137.512966</td>\n",
              "      <td>75.635196</td>\n",
              "      <td>72.674729</td>\n",
              "      <td>128.474525</td>\n",
              "      <td>94.306651</td>\n",
              "      <td>20.954635</td>\n",
              "      <td>375.881766</td>\n",
              "      <td>949.360608</td>\n",
              "      <td>0.327658</td>\n",
              "      <td>0.350300</td>\n",
              "      <td>0.356827</td>\n",
              "      <td>0.364087</td>\n",
              "      <td>0.351319</td>\n",
              "      <td>0.353350</td>\n",
              "      <td>0.343777</td>\n",
              "      <td>0.347505</td>\n",
              "      <td>0.339918</td>\n",
              "      <td>0.345058</td>\n",
              "      <td>0.353797</td>\n",
              "      <td>0.361102</td>\n",
              "      <td>0.351855</td>\n",
              "      <td>0.349488</td>\n",
              "      <td>0.173928</td>\n",
              "    </tr>\n",
              "    <tr>\n",
              "      <th>min</th>\n",
              "      <td>3.600000e+01</td>\n",
              "      <td>0.000000</td>\n",
              "      <td>0.000000e+00</td>\n",
              "      <td>1.000000</td>\n",
              "      <td>0.000000</td>\n",
              "      <td>0.000000</td>\n",
              "      <td>0.000000</td>\n",
              "      <td>0.000000</td>\n",
              "      <td>0.000000</td>\n",
              "      <td>0.000000</td>\n",
              "      <td>0.000000</td>\n",
              "      <td>0.000000</td>\n",
              "      <td>0.000000</td>\n",
              "      <td>0.000000</td>\n",
              "      <td>0.000000</td>\n",
              "      <td>0.000000</td>\n",
              "      <td>0.000000</td>\n",
              "      <td>0.000000</td>\n",
              "      <td>0.000000</td>\n",
              "      <td>0.000000</td>\n",
              "      <td>-2011.000000</td>\n",
              "      <td>-204.000000</td>\n",
              "      <td>-584.666667</td>\n",
              "      <td>-1411.000000</td>\n",
              "      <td>0.000000</td>\n",
              "      <td>0.000000</td>\n",
              "      <td>0.000000</td>\n",
              "      <td>0.000000</td>\n",
              "      <td>0.000000</td>\n",
              "      <td>-2011.000000</td>\n",
              "      <td>0.000000</td>\n",
              "      <td>0.000000</td>\n",
              "      <td>1.000000</td>\n",
              "      <td>0.000000</td>\n",
              "      <td>0.000000</td>\n",
              "      <td>0.000000</td>\n",
              "      <td>0.000000</td>\n",
              "      <td>0.000000</td>\n",
              "      <td>0.000000</td>\n",
              "      <td>0.000000</td>\n",
              "      <td>0.000000</td>\n",
              "      <td>0.000000</td>\n",
              "      <td>0.000000</td>\n",
              "      <td>0.000000</td>\n",
              "      <td>0.000000</td>\n",
              "      <td>0.000000</td>\n",
              "      <td>0.000000</td>\n",
              "      <td>0.000000</td>\n",
              "    </tr>\n",
              "    <tr>\n",
              "      <th>25%</th>\n",
              "      <td>3.673400e+04</td>\n",
              "      <td>0.000000</td>\n",
              "      <td>6.980000e+02</td>\n",
              "      <td>9.000000</td>\n",
              "      <td>47.000000</td>\n",
              "      <td>5.419108</td>\n",
              "      <td>2.000000</td>\n",
              "      <td>8.024092</td>\n",
              "      <td>36.000000</td>\n",
              "      <td>2.042038</td>\n",
              "      <td>0.000000</td>\n",
              "      <td>4.580995</td>\n",
              "      <td>34.000000</td>\n",
              "      <td>1.950000</td>\n",
              "      <td>0.000000</td>\n",
              "      <td>4.354126</td>\n",
              "      <td>43.000000</td>\n",
              "      <td>5.093023</td>\n",
              "      <td>2.000000</td>\n",
              "      <td>7.554663</td>\n",
              "      <td>-402.500000</td>\n",
              "      <td>35.000000</td>\n",
              "      <td>-0.191489</td>\n",
              "      <td>-2.500000</td>\n",
              "      <td>6.511164</td>\n",
              "      <td>2.000000</td>\n",
              "      <td>0.000000</td>\n",
              "      <td>0.000000</td>\n",
              "      <td>2.000000</td>\n",
              "      <td>-6.000000</td>\n",
              "      <td>17.000000</td>\n",
              "      <td>38.000000</td>\n",
              "      <td>2.000000</td>\n",
              "      <td>0.000000</td>\n",
              "      <td>0.000000</td>\n",
              "      <td>0.000000</td>\n",
              "      <td>0.000000</td>\n",
              "      <td>0.000000</td>\n",
              "      <td>0.000000</td>\n",
              "      <td>0.000000</td>\n",
              "      <td>0.000000</td>\n",
              "      <td>0.000000</td>\n",
              "      <td>0.000000</td>\n",
              "      <td>0.000000</td>\n",
              "      <td>0.000000</td>\n",
              "      <td>0.000000</td>\n",
              "      <td>0.000000</td>\n",
              "      <td>0.000000</td>\n",
              "    </tr>\n",
              "    <tr>\n",
              "      <th>50%</th>\n",
              "      <td>2.929110e+05</td>\n",
              "      <td>0.000000</td>\n",
              "      <td>7.045000e+03</td>\n",
              "      <td>18.000000</td>\n",
              "      <td>246.000000</td>\n",
              "      <td>23.729765</td>\n",
              "      <td>12.000000</td>\n",
              "      <td>33.233348</td>\n",
              "      <td>159.000000</td>\n",
              "      <td>8.759322</td>\n",
              "      <td>2.000000</td>\n",
              "      <td>18.670111</td>\n",
              "      <td>152.000000</td>\n",
              "      <td>8.133663</td>\n",
              "      <td>1.000000</td>\n",
              "      <td>18.933186</td>\n",
              "      <td>231.000000</td>\n",
              "      <td>21.680070</td>\n",
              "      <td>12.000000</td>\n",
              "      <td>31.079673</td>\n",
              "      <td>-128.000000</td>\n",
              "      <td>151.000000</td>\n",
              "      <td>0.219626</td>\n",
              "      <td>0.000000</td>\n",
              "      <td>25.481725</td>\n",
              "      <td>11.000000</td>\n",
              "      <td>2.000000</td>\n",
              "      <td>0.000000</td>\n",
              "      <td>10.000000</td>\n",
              "      <td>0.000000</td>\n",
              "      <td>35.000000</td>\n",
              "      <td>97.000000</td>\n",
              "      <td>13.000000</td>\n",
              "      <td>0.000000</td>\n",
              "      <td>0.000000</td>\n",
              "      <td>0.000000</td>\n",
              "      <td>0.000000</td>\n",
              "      <td>0.000000</td>\n",
              "      <td>0.000000</td>\n",
              "      <td>0.000000</td>\n",
              "      <td>0.000000</td>\n",
              "      <td>0.000000</td>\n",
              "      <td>0.000000</td>\n",
              "      <td>0.000000</td>\n",
              "      <td>0.000000</td>\n",
              "      <td>0.000000</td>\n",
              "      <td>0.000000</td>\n",
              "      <td>0.000000</td>\n",
              "    </tr>\n",
              "    <tr>\n",
              "      <th>75%</th>\n",
              "      <td>1.204214e+06</td>\n",
              "      <td>99.000000</td>\n",
              "      <td>5.026400e+04</td>\n",
              "      <td>32.000000</td>\n",
              "      <td>753.000000</td>\n",
              "      <td>71.741379</td>\n",
              "      <td>41.000000</td>\n",
              "      <td>102.554954</td>\n",
              "      <td>505.000000</td>\n",
              "      <td>27.655926</td>\n",
              "      <td>7.500000</td>\n",
              "      <td>59.479737</td>\n",
              "      <td>502.000000</td>\n",
              "      <td>26.270270</td>\n",
              "      <td>5.000000</td>\n",
              "      <td>58.744958</td>\n",
              "      <td>682.000000</td>\n",
              "      <td>68.485452</td>\n",
              "      <td>39.000000</td>\n",
              "      <td>95.493038</td>\n",
              "      <td>-29.000000</td>\n",
              "      <td>490.000000</td>\n",
              "      <td>1.886139</td>\n",
              "      <td>0.000000</td>\n",
              "      <td>81.559672</td>\n",
              "      <td>46.000000</td>\n",
              "      <td>11.000000</td>\n",
              "      <td>9.000000</td>\n",
              "      <td>44.000000</td>\n",
              "      <td>3.000000</td>\n",
              "      <td>53.000000</td>\n",
              "      <td>172.000000</td>\n",
              "      <td>61.000000</td>\n",
              "      <td>0.000000</td>\n",
              "      <td>0.000000</td>\n",
              "      <td>0.000000</td>\n",
              "      <td>0.000000</td>\n",
              "      <td>0.000000</td>\n",
              "      <td>0.000000</td>\n",
              "      <td>0.000000</td>\n",
              "      <td>0.000000</td>\n",
              "      <td>0.000000</td>\n",
              "      <td>0.000000</td>\n",
              "      <td>0.000000</td>\n",
              "      <td>0.000000</td>\n",
              "      <td>0.000000</td>\n",
              "      <td>0.000000</td>\n",
              "      <td>0.000000</td>\n",
              "    </tr>\n",
              "    <tr>\n",
              "      <th>max</th>\n",
              "      <td>4.869723e+08</td>\n",
              "      <td>186370.000000</td>\n",
              "      <td>6.089942e+06</td>\n",
              "      <td>106.000000</td>\n",
              "      <td>2495.000000</td>\n",
              "      <td>2341.000000</td>\n",
              "      <td>2347.000000</td>\n",
              "      <td>1023.765690</td>\n",
              "      <td>2131.000000</td>\n",
              "      <td>1923.000000</td>\n",
              "      <td>1923.000000</td>\n",
              "      <td>809.157702</td>\n",
              "      <td>2162.000000</td>\n",
              "      <td>1267.333333</td>\n",
              "      <td>1879.000000</td>\n",
              "      <td>896.320007</td>\n",
              "      <td>2184.000000</td>\n",
              "      <td>1923.000000</td>\n",
              "      <td>2106.000000</td>\n",
              "      <td>900.068435</td>\n",
              "      <td>1923.000000</td>\n",
              "      <td>2131.000000</td>\n",
              "      <td>1923.000000</td>\n",
              "      <td>1923.000000</td>\n",
              "      <td>1240.113525</td>\n",
              "      <td>2495.000000</td>\n",
              "      <td>2131.000000</td>\n",
              "      <td>2162.000000</td>\n",
              "      <td>2184.000000</td>\n",
              "      <td>2131.000000</td>\n",
              "      <td>72.000000</td>\n",
              "      <td>21480.000000</td>\n",
              "      <td>144860.000000</td>\n",
              "      <td>1.000000</td>\n",
              "      <td>1.000000</td>\n",
              "      <td>1.000000</td>\n",
              "      <td>1.000000</td>\n",
              "      <td>1.000000</td>\n",
              "      <td>1.000000</td>\n",
              "      <td>1.000000</td>\n",
              "      <td>1.000000</td>\n",
              "      <td>1.000000</td>\n",
              "      <td>1.000000</td>\n",
              "      <td>1.000000</td>\n",
              "      <td>1.000000</td>\n",
              "      <td>1.000000</td>\n",
              "      <td>1.000000</td>\n",
              "      <td>1.000000</td>\n",
              "    </tr>\n",
              "  </tbody>\n",
              "</table>\n",
              "</div>"
            ],
            "text/plain": [
              "       Page Popularity/likes  ...  Number Of Predicted Comments\n",
              "count           4.447270e+05  ...                 444727.000000\n",
              "mean            1.313598e+06  ...                      0.031226\n",
              "std             6.816461e+06  ...                      0.173928\n",
              "min             3.600000e+01  ...                      0.000000\n",
              "25%             3.673400e+04  ...                      0.000000\n",
              "50%             2.929110e+05  ...                      0.000000\n",
              "75%             1.204214e+06  ...                      0.000000\n",
              "max             4.869723e+08  ...                      1.000000\n",
              "\n",
              "[8 rows x 48 columns]"
            ]
          },
          "metadata": {
            "tags": []
          },
          "execution_count": 63
        }
      ]
    },
    {
      "cell_type": "markdown",
      "metadata": {
        "id": "mUkk8_40LZfL",
        "colab_type": "text"
      },
      "source": [
        "## Split Data into Train and Test Sets"
      ]
    },
    {
      "cell_type": "markdown",
      "metadata": {
        "id": "_hfrwXLcMeCC",
        "colab_type": "text"
      },
      "source": [
        "Now that we have performed feature selection on the dataset, we now split the dataset into a train and test set. The majority of data goes to the training set to help us avoid overfitting. We chose 20% for testing and 80% for training."
      ]
    },
    {
      "cell_type": "code",
      "metadata": {
        "id": "8YOdUEULLG3T",
        "colab_type": "code",
        "colab": {
          "base_uri": "https://localhost:8080/",
          "height": 52
        },
        "outputId": "30db8a75-aaf9-4a05-fd72-5b6a31f5c129"
      },
      "source": [
        "xTrain, xTest, yTrain, yTest = train_test_split(biData.drop(['Number Of Predicted Comments'], axis=1),biData['Number Of Predicted Comments'], test_size=0.20, random_state=42)\n",
        "\n",
        "# The collections counter display the count of each value with the dataset. \n",
        "#For our binary target values in y, the counter will show only 0s and 1s\n",
        "import collections\n",
        "print(collections.Counter(yTrain))\n",
        "print(collections.Counter(yTest))"
      ],
      "execution_count": null,
      "outputs": [
        {
          "output_type": "stream",
          "text": [
            "Counter({0: 344642, 1: 11139})\n",
            "Counter({0: 86198, 1: 2748})\n"
          ],
          "name": "stdout"
        }
      ]
    },
    {
      "cell_type": "markdown",
      "metadata": {
        "id": "fsqM6kXfjyXE",
        "colab_type": "text"
      },
      "source": [
        "##Oversampling"
      ]
    },
    {
      "cell_type": "markdown",
      "metadata": {
        "id": "UWoGhvZWNJTt",
        "colab_type": "text"
      },
      "source": [
        "The number of 1 target values in our dataset is only around 8%. In order to train our dataset with a more balanced sample, we used oversampling to create more instances where the target value is 1. After implementing the code below, we have equal instances of 0s and 1s from our counter."
      ]
    },
    {
      "cell_type": "code",
      "metadata": {
        "id": "YSzq-a94kDYO",
        "colab_type": "code",
        "colab": {
          "base_uri": "https://localhost:8080/",
          "height": 108
        },
        "outputId": "6c9f128d-3e48-4faf-f954-f4cf3001fe96"
      },
      "source": [
        "# resource: https://stats.stackexchange.com/questions/321970/imbalanced-data-smote-and-feature-selection#:~:text=1%20Answer&text=This%20paper%20argues%20that%20feature,preferred%2C%20and%20at%20a%20minimum%3A&text=performing%20variable%20selection%20after%20using,that%20the%20samples%20are%20independent.\n",
        "\n",
        "from imblearn.over_sampling import SMOTE, SMOTENC\n",
        "from imblearn.combine import SMOTEENN\n",
        "\n",
        "sm = SMOTE(random_state=10)\n",
        "xTrainSM, yTrainSM = sm.fit_sample(xTrain, yTrain)\n",
        "\n",
        "import collections\n",
        "print(collections.Counter(yTrainSM))#Notice change in output from yTrain before\n",
        "print(collections.Counter(yTest))"
      ],
      "execution_count": null,
      "outputs": [
        {
          "output_type": "stream",
          "text": [
            "/usr/local/lib/python3.6/dist-packages/sklearn/utils/deprecation.py:87: FutureWarning: Function safe_indexing is deprecated; safe_indexing is deprecated in version 0.22 and will be removed in version 0.24.\n",
            "  warnings.warn(msg, category=FutureWarning)\n"
          ],
          "name": "stderr"
        },
        {
          "output_type": "stream",
          "text": [
            "Counter({0: 344642, 1: 344642})\n",
            "Counter({0: 86198, 1: 2748})\n"
          ],
          "name": "stdout"
        }
      ]
    },
    {
      "cell_type": "markdown",
      "metadata": {
        "id": "DQjc467yijH_",
        "colab_type": "text"
      },
      "source": [
        "SMOTE stands for Synthetic Minority Oversampling Technique. \n",
        "\n",
        "\"… SMOTE first selects a minority class instance a at random and finds its k nearest minority class neighbors. The synthetic instance is then created by choosing one of the k nearest neighbors b at random and connecting a and b to form a line segment in the feature space. The synthetic instances are generated as a convex combination of the two chosen instances a and b.\" - Page 47, Imbalanced Learning: Foundations, Algorithms, and Applications, 2013."
      ]
    },
    {
      "cell_type": "markdown",
      "metadata": {
        "id": "eQgcSsKzOSkZ",
        "colab_type": "text"
      },
      "source": [
        "## Machine Learning Classifications"
      ]
    },
    {
      "cell_type": "markdown",
      "metadata": {
        "id": "mP-lzqQJk-q7",
        "colab_type": "text"
      },
      "source": [
        "Now it is time to train and test our data after doing feature selection. Machine learning classifiers allow us to assign class labels to data points from the dataset. We will use the Decision Tree Classifier, Random Forest Classifier, and the K-Nearest Neighbors Classifer on the dataset."
      ]
    },
    {
      "cell_type": "markdown",
      "metadata": {
        "id": "MMXS1Ov5KuH6",
        "colab_type": "text"
      },
      "source": [
        "### Decision Tree"
      ]
    },
    {
      "cell_type": "markdown",
      "metadata": {
        "id": "Itwsj-gwRSFR",
        "colab_type": "text"
      },
      "source": [
        "A decision tree classifier breaks down a data set into smaller subsets while an associated decision tree is incrementally built. The final result is a tree with decision nodes and leaf nodes. A decision node has two or more branches. Leaf nodes represents a classification. Our best predictor becomes the root node\n",
        "Here we use the Decision Tree Classifier on the dataset."
      ]
    },
    {
      "cell_type": "code",
      "metadata": {
        "id": "3Yf0_W7qWyIn",
        "colab_type": "code",
        "colab": {
          "base_uri": "https://localhost:8080/",
          "height": 124
        },
        "outputId": "6c7b65fc-5122-40ba-9da1-29bac1ddf19f"
      },
      "source": [
        "# retrain, The target value ,Number of Predicted Comments, array is Y. Our features from our dataset are X\n",
        "\n",
        "#xTrain, xTest, yTrain, yTest = train_test_split(biData.drop(['Number Of Predicted Comments'], axis=1),biData['Number Of Predicted Comments'], test_size=0.20, random_state=42)\n",
        "clfDT = DecisionTreeClassifier()\n",
        "clfDT.fit(xTrainSM, yTrainSM)"
      ],
      "execution_count": null,
      "outputs": [
        {
          "output_type": "execute_result",
          "data": {
            "text/plain": [
              "DecisionTreeClassifier(ccp_alpha=0.0, class_weight=None, criterion='gini',\n",
              "                       max_depth=None, max_features=None, max_leaf_nodes=None,\n",
              "                       min_impurity_decrease=0.0, min_impurity_split=None,\n",
              "                       min_samples_leaf=1, min_samples_split=2,\n",
              "                       min_weight_fraction_leaf=0.0, presort='deprecated',\n",
              "                       random_state=None, splitter='best')"
            ]
          },
          "metadata": {
            "tags": []
          },
          "execution_count": 66
        }
      ]
    },
    {
      "cell_type": "markdown",
      "metadata": {
        "id": "MdZF2taoM8Wr",
        "colab_type": "text"
      },
      "source": [
        "####Feature Importances"
      ]
    },
    {
      "cell_type": "markdown",
      "metadata": {
        "id": "PT2_WuC-RhMP",
        "colab_type": "text"
      },
      "source": [
        "Now we use the Decision Tree Classifier to find the feature importances for the feature selection."
      ]
    },
    {
      "cell_type": "code",
      "metadata": {
        "id": "UbUCFY0dMoNc",
        "colab_type": "code",
        "colab": {
          "base_uri": "https://localhost:8080/",
          "height": 721
        },
        "outputId": "94b9db6b-c5a2-4c85-b045-579af90ea112"
      },
      "source": [
        "# resource: https://towardsdatascience.com/explain-your-machine-learning-with-feature-importance-774cd72abe\n",
        "\n",
        "cols = list(biData.columns)\n",
        "cols.remove('Number Of Predicted Comments')\n",
        "print(len(cols))\n",
        "featImportances = pd.Series(clfDT.feature_importances_, index=cols)\n",
        "featImportances.plot(kind='barh', figsize=(12,12))\n",
        "plt.show()"
      ],
      "execution_count": null,
      "outputs": [
        {
          "output_type": "stream",
          "text": [
            "47\n"
          ],
          "name": "stdout"
        },
        {
          "output_type": "display_data",
          "data": {
            "image/png": "[encoded data removed]",
            "text/plain": [
              "<Figure size 864x864 with 1 Axes>"
            ]
          },
          "metadata": {
            "tags": []
          }
        }
      ]
    },
    {
      "cell_type": "markdown",
      "metadata": {
        "id": "n8IxW6_TVLyk",
        "colab_type": "text"
      },
      "source": [
        "Based on the bar graph shown above, we can see the level of contribution a feature has on the predictions of the model."
      ]
    },
    {
      "cell_type": "markdown",
      "metadata": {
        "id": "-Zmow2WJMtKI",
        "colab_type": "text"
      },
      "source": [
        "####Evaluation"
      ]
    },
    {
      "cell_type": "markdown",
      "metadata": {
        "id": "YFzWbyQ0Rmi4",
        "colab_type": "text"
      },
      "source": [
        "Now we view the accuracy, precision, recall, F1, and AUC of the model from using the Decision Tree Classifier. We also plot the precision-recall and AUC-ROC curves."
      ]
    },
    {
      "cell_type": "code",
      "metadata": {
        "id": "zm3dLkOjMp8N",
        "colab_type": "code",
        "colab": {
          "base_uri": "https://localhost:8080/",
          "height": 676
        },
        "outputId": "8c324fb1-4c85-41af-8dae-ba04f9d01317"
      },
      "source": [
        "# resource: https://blog.exsilio.com/all/accuracy-precision-recall-f1-score-interpretation-of-performance-measures/#:~:text=Accuracy%20%2D%20Accuracy%20is%20the%20most,observation%20to%20the%20total%20observations.&text=80%25%20accurate.,the%20total%20predicted%20positive%20observations.\n",
        "# resource: https://en.wikipedia.org/wiki/F1_score\n",
        "\n",
        "accuracy = clfDT.score(xTest, yTest)\n",
        "print(\"Accuracy: \", accuracy)\n",
        "yPred = clfDT.predict_proba(xTest)[:, 1]\n",
        "print_metrics(yTest,yPred,10)\n",
        "plot_PR_curve(yTest, yPred)\n",
        "plot_ROC_curve(yTest, yPred)"
      ],
      "execution_count": null,
      "outputs": [
        {
          "output_type": "stream",
          "text": [
            "Accuracy:  0.9832032918849639\n",
            "Precision 0.7021276595744681\n",
            "Recall 0.7925764192139738\n",
            "F1 0.7446153846153846\n",
            "AUC 0.8909284564804643\n"
          ],
          "name": "stdout"
        },
        {
          "output_type": "display_data",
          "data": {
            "text/plain": [
              "<Figure size 432x288 with 0 Axes>"
            ]
          },
          "metadata": {
            "tags": []
          }
        },
        {
          "output_type": "display_data",
          "data": {
            "image/png": "[encoded data removed]",
            "text/plain": [
              "<Figure size 432x288 with 2 Axes>"
            ]
          },
          "metadata": {
            "tags": []
          }
        },
        {
          "output_type": "display_data",
          "data": {
            "image/png": "[encoded data removed]",
            "text/plain": [
              "<Figure size 432x288 with 1 Axes>"
            ]
          },
          "metadata": {
            "tags": []
          }
        }
      ]
    },
    {
      "cell_type": "markdown",
      "metadata": {
        "id": "9y-TBfbqSERJ",
        "colab_type": "text"
      },
      "source": [
        "Accuracy is the percentage of the number of correctly predicted observations over the total observations.\n",
        "\n",
        "Precision is the number of correctly predicted positive observations to the total predicted positive observations.\n",
        "\n",
        "Recall is the number of correctly predicted positive observations to the total of correctly predicted positive observations.\n",
        "\n",
        "F1 measures a test's accuracy by using the weighted average of precision and recall to generate a score. The best F1 score is a value of 1.\n",
        "\n",
        "AUC is the area under the ROC curve. The ROC curve plots based on \"True Positive\" and \"False Positive\" values which we will later see in the Confusion Matrix. A good AUC score is a value near 1."
      ]
    },
    {
      "cell_type": "markdown",
      "metadata": {
        "id": "zEp209ezOjKU",
        "colab_type": "text"
      },
      "source": [
        "Accuracy, precision, and recall are all fairly high as we can see from the results above. The F1 score is fairly close to 1 and the AUC score is close to 0.9 which is good.\n",
        "\n",
        "The AUC-ROC curve has an AUC score that is close to 0.9 which is good."
      ]
    },
    {
      "cell_type": "markdown",
      "metadata": {
        "id": "tnxre_0iNJSx",
        "colab_type": "text"
      },
      "source": [
        "####Confusion Matrix"
      ]
    },
    {
      "cell_type": "markdown",
      "metadata": {
        "id": "c1Rd3bo7SPhE",
        "colab_type": "text"
      },
      "source": [
        "A Confusion Matrix allows us to see the predictions that the model made based on the observed and predicted class labels. A Confusion Matrix can be read by interpreting the top-left value as \"True Positive\", the bottom-right value as \"True Negative\", the top-right value as \"False Positive\", and the bottom-left value as \"False Negative\"."
      ]
    },
    {
      "cell_type": "code",
      "metadata": {
        "id": "NllRcnICCR7r",
        "colab_type": "code",
        "colab": {
          "base_uri": "https://localhost:8080/",
          "height": 286
        },
        "outputId": "efc3d597-ab49-47ac-8171-cbdd3de9d7db"
      },
      "source": [
        "# resource: https://machinelearningmastery.com/classification-accuracy-is-not-enough-more-performance-measures-you-can-use/\n",
        "\n",
        "from sklearn.metrics import confusion_matrix\n",
        "actualLabel = yTest\n",
        "predictedLabel = (yPred>0.5).astype(int)\n",
        "cm = metrics.confusion_matrix(actualLabel,predictedLabel)\n",
        "sns.heatmap(cm, annot=True, annot_kws = {\"size\": 16})"
      ],
      "execution_count": null,
      "outputs": [
        {
          "output_type": "execute_result",
          "data": {
            "text/plain": [
              "<matplotlib.axes._subplots.AxesSubplot at 0x7f0c8138da58>"
            ]
          },
          "metadata": {
            "tags": []
          },
          "execution_count": 69
        },
        {
          "output_type": "display_data",
          "data": {
            "image/png": "[encoded data removed]",
            "text/plain": [
              "<Figure size 432x288 with 2 Axes>"
            ]
          },
          "metadata": {
            "tags": []
          }
        }
      ]
    },
    {
      "cell_type": "markdown",
      "metadata": {
        "id": "BQlB8nP0W7Eh",
        "colab_type": "text"
      },
      "source": [
        "As we can see from the above Confusion Matrix, the \"True Positive\" and \"True Negative\" values are higher than the\"False Positive\" and \"False Negative\". This means that the model using the Decision Tree Classifier has predicted more values correctly than wrongly."
      ]
    },
    {
      "cell_type": "markdown",
      "metadata": {
        "id": "kaSDjWl1hwsP",
        "colab_type": "text"
      },
      "source": [
        "### Random Forest"
      ]
    },
    {
      "cell_type": "markdown",
      "metadata": {
        "id": "Momx80lXUf3r",
        "colab_type": "text"
      },
      "source": [
        "Random forest uses a large number of individual decision trees. Each individual tree in the random forest generates a class prediction and the class with the most votes becomes our model’s prediction.\n",
        "\n",
        "Here we use the Random Forest Classifier on the dataset."
      ]
    },
    {
      "cell_type": "code",
      "metadata": {
        "id": "pSUkCgXHh1Uf",
        "colab_type": "code",
        "colab": {
          "base_uri": "https://localhost:8080/",
          "height": 212
        },
        "outputId": "eb9864f9-bb00-491b-e4ae-de1199c58777"
      },
      "source": [
        "from sklearn.ensemble import RandomForestClassifier\n",
        "# njobs:The number of jobs to run in parallel.  njobs = -1 means using all processors``\n",
        "clfRF = RandomForestClassifier(n_estimators=100, n_jobs=-1, random_state=42, class_weight=\"balanced\", verbose = 1)\n",
        "clfRF.fit(xTrainSM, yTrainSM)\n"
      ],
      "execution_count": null,
      "outputs": [
        {
          "output_type": "stream",
          "text": [
            "[Parallel(n_jobs=-1)]: Using backend ThreadingBackend with 2 concurrent workers.\n",
            "[Parallel(n_jobs=-1)]: Done  46 tasks      | elapsed:  1.8min\n",
            "[Parallel(n_jobs=-1)]: Done 100 out of 100 | elapsed:  3.9min finished\n"
          ],
          "name": "stderr"
        },
        {
          "output_type": "execute_result",
          "data": {
            "text/plain": [
              "RandomForestClassifier(bootstrap=True, ccp_alpha=0.0, class_weight='balanced',\n",
              "                       criterion='gini', max_depth=None, max_features='auto',\n",
              "                       max_leaf_nodes=None, max_samples=None,\n",
              "                       min_impurity_decrease=0.0, min_impurity_split=None,\n",
              "                       min_samples_leaf=1, min_samples_split=2,\n",
              "                       min_weight_fraction_leaf=0.0, n_estimators=100,\n",
              "                       n_jobs=-1, oob_score=False, random_state=42, verbose=1,\n",
              "                       warm_start=False)"
            ]
          },
          "metadata": {
            "tags": []
          },
          "execution_count": 70
        }
      ]
    },
    {
      "cell_type": "markdown",
      "metadata": {
        "id": "9j9vV7fxvwI7",
        "colab_type": "text"
      },
      "source": [
        "####Importances"
      ]
    },
    {
      "cell_type": "markdown",
      "metadata": {
        "id": "KouoTGaTUyLx",
        "colab_type": "text"
      },
      "source": [
        "Now we use the Random Forest Classifier to find the feature importances."
      ]
    },
    {
      "cell_type": "code",
      "metadata": {
        "id": "PVjfSp9avyYN",
        "colab_type": "code",
        "colab": {
          "base_uri": "https://localhost:8080/",
          "height": 703
        },
        "outputId": "a89b5e66-e7f5-438c-8f3b-06634a500a7d"
      },
      "source": [
        "featImportances = pd.Series(clfRF.feature_importances_, index=cols)\n",
        "featImportances.plot(kind='barh', figsize=(12,12))\n",
        "plt.show()"
      ],
      "execution_count": null,
      "outputs": [
        {
          "output_type": "display_data",
          "data": {
            "image/png": "[encoded data removed]",
            "text/plain": [
              "<Figure size 864x864 with 1 Axes>"
            ]
          },
          "metadata": {
            "tags": []
          }
        }
      ]
    },
    {
      "cell_type": "markdown",
      "metadata": {
        "id": "Bm_Qt300WJGB",
        "colab_type": "text"
      },
      "source": [
        "Based on the bar graph shown above, we can see the level of contribution a feature has on the predictions of the model."
      ]
    },
    {
      "cell_type": "markdown",
      "metadata": {
        "id": "_pLTbzPYrKb6",
        "colab_type": "text"
      },
      "source": [
        "####Evaluation"
      ]
    },
    {
      "cell_type": "markdown",
      "metadata": {
        "id": "dtQB_JJNVAb2",
        "colab_type": "text"
      },
      "source": [
        "Now we view the accuracy, precision, recall, F1, and AUC of the model from using the Random Forest Classifier. We also plot the precision-recall and AUC-ROC curves."
      ]
    },
    {
      "cell_type": "code",
      "metadata": {
        "id": "_6eMVm1sr-KC",
        "colab_type": "code",
        "colab": {
          "base_uri": "https://localhost:8080/",
          "height": 782
        },
        "outputId": "1a53258e-57f0-4423-bc00-0173ac30108e"
      },
      "source": [
        "accuracy = clf_rf.score(xTest, yTest)\n",
        "print(\"Accuracy: \", accuracy)\n",
        "yPred = clf_rf.predict_proba(xTest)[:, 1]\n",
        "print_metrics(yTest,yPred,10)\n",
        "plot_PR_curve(yTest, yPred)\n",
        "plot_ROC_curve(yTest, yPred)"
      ],
      "execution_count": null,
      "outputs": [
        {
          "output_type": "stream",
          "text": [
            "[Parallel(n_jobs=2)]: Using backend ThreadingBackend with 2 concurrent workers.\n",
            "[Parallel(n_jobs=2)]: Done  46 tasks      | elapsed:    0.6s\n",
            "[Parallel(n_jobs=2)]: Done 100 out of 100 | elapsed:    1.3s finished\n",
            "[Parallel(n_jobs=2)]: Using backend ThreadingBackend with 2 concurrent workers.\n"
          ],
          "name": "stderr"
        },
        {
          "output_type": "stream",
          "text": [
            "Accuracy:  0.9890495356733299\n"
          ],
          "name": "stdout"
        },
        {
          "output_type": "stream",
          "text": [
            "[Parallel(n_jobs=2)]: Done  46 tasks      | elapsed:    0.6s\n",
            "[Parallel(n_jobs=2)]: Done 100 out of 100 | elapsed:    1.2s finished\n"
          ],
          "name": "stderr"
        },
        {
          "output_type": "stream",
          "text": [
            "Precision 0.8048109965635739\n",
            "Recall 0.8522561863173217\n",
            "F1 0.8278543655001767\n",
            "AUC 0.9952540274645426\n"
          ],
          "name": "stdout"
        },
        {
          "output_type": "display_data",
          "data": {
            "text/plain": [
              "<Figure size 432x288 with 0 Axes>"
            ]
          },
          "metadata": {
            "tags": []
          }
        },
        {
          "output_type": "display_data",
          "data": {
            "image/png": "[encoded data removed]",
            "text/plain": [
              "<Figure size 432x288 with 2 Axes>"
            ]
          },
          "metadata": {
            "tags": []
          }
        },
        {
          "output_type": "display_data",
          "data": {
            "image/png": "[encoded data removed]",
            "text/plain": [
              "<Figure size 432x288 with 1 Axes>"
            ]
          },
          "metadata": {
            "tags": []
          }
        }
      ]
    },
    {
      "cell_type": "markdown",
      "metadata": {
        "id": "mlaXrXVrWWNs",
        "colab_type": "text"
      },
      "source": [
        "Accuracy, precision, and recall are all fairly high as we can see from the results above. The F1 score is fairly close to 1 and the AUC score is very close to 1 which is great.\n",
        "\n",
        "The AUC-ROC curve has an AUC score that is very close to 1 which is great."
      ]
    },
    {
      "cell_type": "markdown",
      "metadata": {
        "id": "c7B7dchaV4tw",
        "colab_type": "text"
      },
      "source": [
        "#### Confusion Matrix"
      ]
    },
    {
      "cell_type": "markdown",
      "metadata": {
        "id": "JgA4Fm8nV-we",
        "colab_type": "text"
      },
      "source": [
        "Now we use a Confusion Matrix to see the predictions that the model made based on the observed and predicted class labels from using the Random Forest Classifier. \n",
        "\n",
        "The y axis is the predicted value, and x is the actual value. Ex. Top Left = True Negatives, Top Right = False Negatives"
      ]
    },
    {
      "cell_type": "code",
      "metadata": {
        "id": "opiQjVFXWX9X",
        "colab_type": "code",
        "colab": {
          "base_uri": "https://localhost:8080/",
          "height": 286
        },
        "outputId": "f4020f26-38c0-4049-e0db-ccedb6227e33"
      },
      "source": [
        "from sklearn.metrics import confusion_matrix\n",
        "actualLabel = yTest\n",
        "predictedLabel = (yPred>0.5).astype(int)\n",
        "cm = metrics.confusion_matrix(actualLabel,predictedLabel)\n",
        "sns.heatmap(cm, annot=True, annot_kws = {\"size\": 16})"
      ],
      "execution_count": null,
      "outputs": [
        {
          "output_type": "execute_result",
          "data": {
            "text/plain": [
              "<matplotlib.axes._subplots.AxesSubplot at 0x7f0c85dcf0b8>"
            ]
          },
          "metadata": {
            "tags": []
          },
          "execution_count": 73
        },
        {
          "output_type": "display_data",
          "data": {
            "image/png": "[encoded data removed]",
            "text/plain": [
              "<Figure size 432x288 with 2 Axes>"
            ]
          },
          "metadata": {
            "tags": []
          }
        }
      ]
    },
    {
      "cell_type": "markdown",
      "metadata": {
        "id": "1ggn_-kLW2o8",
        "colab_type": "text"
      },
      "source": [
        "As we can see from the above Confusion Matrix, the \"True Positive\" and \"True Negative\" values are higher than the\"False Positive\" and \"False Negative\". This means that the model using the Random Forest Classifier has predicted more values correctly than wrongly."
      ]
    },
    {
      "cell_type": "markdown",
      "metadata": {
        "id": "LlFY5r8pNQf2",
        "colab_type": "text"
      },
      "source": [
        "### K-Nearest Neighbors"
      ]
    },
    {
      "cell_type": "markdown",
      "metadata": {
        "id": "2Mxh5ECzVbEh",
        "colab_type": "text"
      },
      "source": [
        "Here we use the K-Nearest Neighbors Classifier on the dataset. KNN works by finding K neighbors of our query and then averaging the labels of each. The value of K is chosen based on the size of the set. For our data set we show the impact and results of different k values later in the report."
      ]
    },
    {
      "cell_type": "code",
      "metadata": {
        "id": "X2psaF_kA2LS",
        "colab_type": "code",
        "colab": {
          "base_uri": "https://localhost:8080/",
          "height": 70
        },
        "outputId": "56686c80-0cea-4249-d048-4d2be68cdc30"
      },
      "source": [
        "from sklearn.neighbors import KNeighborsClassifier\n",
        "clfNN = KNeighborsClassifier(n_neighbors=3)\n",
        "clfNN.fit(xTrainSM, yTrainSM)"
      ],
      "execution_count": null,
      "outputs": [
        {
          "output_type": "execute_result",
          "data": {
            "text/plain": [
              "KNeighborsClassifier(algorithm='auto', leaf_size=30, metric='minkowski',\n",
              "                     metric_params=None, n_jobs=None, n_neighbors=3, p=2,\n",
              "                     weights='uniform')"
            ]
          },
          "metadata": {
            "tags": []
          },
          "execution_count": 74
        }
      ]
    },
    {
      "cell_type": "markdown",
      "metadata": {
        "id": "BzarvKXmNaz5",
        "colab_type": "text"
      },
      "source": [
        "####Evaluation"
      ]
    },
    {
      "cell_type": "markdown",
      "metadata": {
        "id": "2pa2eR86Vkds",
        "colab_type": "text"
      },
      "source": [
        "Now we view the accuracy, precision, recall, F1, and AUC of the model from using the K-Nearest Neighbors Classifier. We also plot the precision-recall and AUC-ROC curves."
      ]
    },
    {
      "cell_type": "code",
      "metadata": {
        "id": "m8ZasHCHNZk6",
        "colab_type": "code",
        "colab": {
          "base_uri": "https://localhost:8080/",
          "height": 676
        },
        "outputId": "d0732c16-433f-4ddf-e94c-e959a44a7af2"
      },
      "source": [
        "accuracy = clfNN.score(xTest, yTest)\n",
        "print(\"Accuracy: \", accuracy)\n",
        "yPred = clfNN.predict_proba(xTest)[:, 1]\n",
        "print_metrics(yTest,yPred,10)\n",
        "plot_PR_curve(yTest, yPred)\n",
        "plot_ROC_curve(yTest, yPred)"
      ],
      "execution_count": null,
      "outputs": [
        {
          "output_type": "stream",
          "text": [
            "Accuracy:  0.9641467856901941\n",
            "Precision 0.45493562231759654\n",
            "Recall 0.8100436681222707\n",
            "F1 0.5826462504907735\n",
            "AUC 0.9177392771417272\n"
          ],
          "name": "stdout"
        },
        {
          "output_type": "display_data",
          "data": {
            "text/plain": [
              "<Figure size 432x288 with 0 Axes>"
            ]
          },
          "metadata": {
            "tags": []
          }
        },
        {
          "output_type": "display_data",
          "data": {
            "image/png": "[encoded data removed]",
            "text/plain": [
              "<Figure size 432x288 with 2 Axes>"
            ]
          },
          "metadata": {
            "tags": []
          }
        },
        {
          "output_type": "display_data",
          "data": {
            "image/png": "[encoded data removed]",
            "text/plain": [
              "<Figure size 432x288 with 1 Axes>"
            ]
          },
          "metadata": {
            "tags": []
          }
        }
      ]
    },
    {
      "cell_type": "markdown",
      "metadata": {
        "id": "5XNuWWeFVrHO",
        "colab_type": "text"
      },
      "source": [
        "Accuracy and recall are all fairly high as we can see from the results above. The AUC score is above 0.9 which is good. However, the precision is 0.45 and the F1 score is 0.58 which is low. The low precision number pulled down the F1 score as the recall number is fairly high. This means that there is a significant amount of \"False Positives\" and \"False Negatives.\"\n",
        "\n",
        "The AUC-ROC curve has an AUC score that is above 0.9 which is good."
      ]
    },
    {
      "cell_type": "markdown",
      "metadata": {
        "id": "m7zx6cY-Nn10",
        "colab_type": "text"
      },
      "source": [
        "####Confusion Matrix"
      ]
    },
    {
      "cell_type": "markdown",
      "metadata": {
        "id": "v4cvGd8CWpz9",
        "colab_type": "text"
      },
      "source": [
        "Now we use a Confusion Matrix to see the predictions that the model made based on the observed and predicted class labels from using the K-Nearest Neighbors Classifier."
      ]
    },
    {
      "cell_type": "code",
      "metadata": {
        "id": "pPrtJ435CbWo",
        "colab_type": "code",
        "colab": {
          "base_uri": "https://localhost:8080/",
          "height": 286
        },
        "outputId": "6cce5ec1-964e-4dc9-d2bf-84eb4b182e2c"
      },
      "source": [
        "from sklearn.metrics import confusion_matrix\n",
        "actualLabel = yTest\n",
        "predictedLabel = (yPred>0.5).astype(int)\n",
        "cm = metrics.confusion_matrix(actualLabel,predictedLabel)\n",
        "sns.heatmap(cm, annot=True, annot_kws = {\"size\": 16})"
      ],
      "execution_count": null,
      "outputs": [
        {
          "output_type": "execute_result",
          "data": {
            "text/plain": [
              "<matplotlib.axes._subplots.AxesSubplot at 0x7f0c9ba4a080>"
            ]
          },
          "metadata": {
            "tags": []
          },
          "execution_count": 76
        },
        {
          "output_type": "display_data",
          "data": {
            "image/png": "[encoded data removed]",
            "text/plain": [
              "<Figure size 432x288 with 2 Axes>"
            ]
          },
          "metadata": {
            "tags": []
          }
        }
      ]
    },
    {
      "cell_type": "markdown",
      "metadata": {
        "id": "lWqvPB87Wyjj",
        "colab_type": "text"
      },
      "source": [
        "As we can see from the above Confusion Matrix, the \"True Positive\" value is much higher than the\"False Positive\" and \"False Negative\", even though the \"True Negative\" value is lower than the \"False Negative\" value. This means that the model using the Random Forest Classifier has predicted more values correctly than wrongly."
      ]
    },
    {
      "cell_type": "markdown",
      "metadata": {
        "id": "-rjlEjUSO7G9",
        "colab_type": "text"
      },
      "source": [
        "####Effects of k (number of neighbors)"
      ]
    },
    {
      "cell_type": "markdown",
      "metadata": {
        "id": "8ScCUQyOWwJJ",
        "colab_type": "text"
      },
      "source": [
        "We want to see how increasing the number of neighbors affects the accuracy of our model. To do this we will plot the accuracy of the model versus the number of neighbors. This takes around 50 minutes to run."
      ]
    },
    {
      "cell_type": "code",
      "metadata": {
        "id": "yUhK1RoUO7ln",
        "colab_type": "code",
        "colab": {
          "base_uri": "https://localhost:8080/",
          "height": 285
        },
        "outputId": "7e41784c-e677-4c1d-a039-972eba129649"
      },
      "source": [
        "accuracies = []\n",
        "kValues = range(1,100,2)\n",
        "for k in kValues:\n",
        "    clfNN = KNeighborsClassifier(n_neighbors=k)\n",
        "    clfNN.fit(xTrainSM, yTrainSM)\n",
        "    accuracies.append(clfNN.score(xTest, yTest))\n",
        "plt.plot(kValues, accuracies)\n",
        "plt.xlabel('Number of neighbors')\n",
        "plt.xticks(kValues)\n",
        "plt.ylabel('Accuracy')\n",
        "plt.show()"
      ],
      "execution_count": null,
      "outputs": [
        {
          "output_type": "display_data",
          "data": {
            "image/png": "[encoded data removed]",
            "text/plain": [
              "<Figure size 432x288 with 1 Axes>"
            ]
          },
          "metadata": {
            "tags": []
          }
        }
      ]
    },
    {
      "cell_type": "markdown",
      "metadata": {
        "id": "AxuOqhr2XFli",
        "colab_type": "text"
      },
      "source": [
        "From the plot above, we can see that the accuracy is very high when there is a lower number of neighbors and then the accuracy decreases as the number of neighbors increases."
      ]
    },
    {
      "cell_type": "markdown",
      "metadata": {
        "id": "brByDziuPNut",
        "colab_type": "text"
      },
      "source": [
        "# Conclusions"
      ]
    },
    {
      "cell_type": "markdown",
      "metadata": {
        "id": "tpRqu9jyPTRb",
        "colab_type": "text"
      },
      "source": [
        "We initially went into this project with the goal of predicting the exact amount of comments a post has. We very quickly realized that with a dataset consisting of primarily 0s with a range from 0-2000 this would not be very accurate. To better suit our dataset, we adapted to predicting whether or not a post will receive 0-50 comments or more than 50 comments. This allowed us to use binary classification and implement Random Forest, Decision Tree, and K-Nearest Neighbors.\n",
        "\n",
        "Random Forest had the best results for classifying the data, followed by Decision Tree and then K-Nearest Neighbors. However, the K-Nearest Neighbors classifier may not be useable because of the low precision number and F1 score."
      ]
    },
    {
      "cell_type": "markdown",
      "metadata": {
        "id": "Fl3bP1wn-7Ru",
        "colab_type": "text"
      },
      "source": [
        "# Resources"
      ]
    },
    {
      "cell_type": "markdown",
      "metadata": {
        "id": "GKggE3ZH-964",
        "colab_type": "text"
      },
      "source": [
        "\n",
        "\n",
        "*   http://archive.ics.uci.edu/ml/datasets/Facebook+Comment+Volume+Dataset?fbclid=IwAR0-0E-gKKpGAe0wRZ2AHboKgntIO3UrAVPaFOnkw6R6IAuAgHVgDzde1qo\n",
        "*   https://github.com/rutujagurav/Binary-Classification-Predicting-a-pulsar-star/blob/master/PulsarStar_v1.ipynb\n",
        "*   https://medium.com/@simonprdhm/2-ways-to-upload-csv-files-to-google-colab-4d29ffa9db85\n",
        "*   https://kite.com/python/answers/how-to-add-a-header-to-a-csv-file-in-python#:~:text=Use%20pandas.,header%20to%20a%20CSV%20file&text=read_csv(file%2C%20header%3DNone,header%20to%20the%20CSV%20file.\n",
        "*   https://stackoverflow.com/questions/48051100/python-pandas-merge-multiple-csv-files\n",
        "*   https://pandas.pydata.org/pandas-docs/stable/reference/api/pandas.DataFrame.loc.html\n",
        "*   https://stackoverflow.com/questions/31511997/pandas-dataframe-replace-all-values-in-a-column-based-on-condition\n",
        "*   https://datascience.stackexchange.com/questions/23954/is-there-a-model-agnostic-way-to-determine-feature-importance\n",
        "*   https://stats.stackexchange.com/questions/321970/imbalanced-data-smote-and-feature-selection#:~:text=1%20Answer&text=This%20paper%20argues%20that%20feature,preferred%2C%20and%20at%20a%20minimum%3A&text=performing%20variable%20selection%20after%20using,that%20the%20samples%20are%20independent.\n",
        "*   https://towardsdatascience.com/explain-your-machine-learning-with-feature-importance-774cd72abe\n",
        "*   https://blog.exsilio.com/all/accuracy-precision-recall-f1-score-interpretation-of-performance-measures/#:~:text=Accuracy%20%2D%20Accuracy%20is%20the%20most,observation%20to%20the%20total%20observations.&text=80%25%20accurate.,the%20total%20predicted%20positive%20observations.\n",
        "*   https://en.wikipedia.org/wiki/F1_score\n",
        "*   https://machinelearningmastery.com/classification-accuracy-is-not-enough-more-performance-measures-you-can-use/\n",
        "\n",
        "\n",
        "\n"
      ]
    }
  ]
}